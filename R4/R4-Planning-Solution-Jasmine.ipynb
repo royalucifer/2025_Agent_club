{
  "cells": [
    {
      "cell_type": "markdown",
      "metadata": {
        "id": "TG12VsuLzE9d"
      },
      "source": [
        "# 非程式題"
      ]
    },
    {
      "cell_type": "markdown",
      "metadata": {
        "id": "2aM7kAEFzT5a"
      },
      "source": [
        "1. 如果 Agent 沒有 planning 能力會有什麼缺點？\n",
        "\n",
        "2. planning 在實務應用上會碰到什麼困難？"
      ]
    },
    {
      "cell_type": "markdown",
      "metadata": {
        "id": "HQPwZnj7y_xe"
      },
      "source": [
        "# 程式題"
      ]
    },
    {
      "cell_type": "code",
      "execution_count": null,
      "metadata": {
        "id": "fBy65z3sDzQP",
        "colab": {
          "base_uri": "https://localhost:8080/"
        },
        "outputId": "38d60a2b-45bd-43ad-deeb-c1654c60975b"
      },
      "outputs": [
        {
          "output_type": "stream",
          "name": "stdout",
          "text": [
            "\u001b[2K     \u001b[90m━━━━━━━━━━━━━━━━━━━━━━━━━━━━━━━━━━━━━━━━\u001b[0m \u001b[32m43.7/43.7 kB\u001b[0m \u001b[31m2.1 MB/s\u001b[0m eta \u001b[36m0:00:00\u001b[0m\n",
            "\u001b[2K   \u001b[90m━━━━━━━━━━━━━━━━━━━━━━━━━━━━━━━━━━━━━━━━\u001b[0m \u001b[32m143.7/143.7 kB\u001b[0m \u001b[31m8.6 MB/s\u001b[0m eta \u001b[36m0:00:00\u001b[0m\n",
            "\u001b[2K   \u001b[90m━━━━━━━━━━━━━━━━━━━━━━━━━━━━━━━━━━━━━━━━\u001b[0m \u001b[32m70.4/70.4 kB\u001b[0m \u001b[31m3.7 MB/s\u001b[0m eta \u001b[36m0:00:00\u001b[0m\n",
            "\u001b[2K   \u001b[90m━━━━━━━━━━━━━━━━━━━━━━━━━━━━━━━━━━━━━━━━\u001b[0m \u001b[32m2.5/2.5 MB\u001b[0m \u001b[31m22.1 MB/s\u001b[0m eta \u001b[36m0:00:00\u001b[0m\n",
            "\u001b[2K   \u001b[90m━━━━━━━━━━━━━━━━━━━━━━━━━━━━━━━━━━━━━━━━\u001b[0m \u001b[32m43.8/43.8 kB\u001b[0m \u001b[31m1.2 MB/s\u001b[0m eta \u001b[36m0:00:00\u001b[0m\n",
            "\u001b[2K   \u001b[90m━━━━━━━━━━━━━━━━━━━━━━━━━━━━━━━━━━━━━━━━\u001b[0m \u001b[32m440.2/440.2 kB\u001b[0m \u001b[31m15.6 MB/s\u001b[0m eta \u001b[36m0:00:00\u001b[0m\n",
            "\u001b[2K   \u001b[90m━━━━━━━━━━━━━━━━━━━━━━━━━━━━━━━━━━━━━━━━\u001b[0m \u001b[32m50.1/50.1 kB\u001b[0m \u001b[31m2.4 MB/s\u001b[0m eta \u001b[36m0:00:00\u001b[0m\n",
            "\u001b[2K   \u001b[90m━━━━━━━━━━━━━━━━━━━━━━━━━━━━━━━━━━━━━━━━\u001b[0m \u001b[32m45.2/45.2 kB\u001b[0m \u001b[31m2.4 MB/s\u001b[0m eta \u001b[36m0:00:00\u001b[0m\n",
            "\u001b[2K   \u001b[90m━━━━━━━━━━━━━━━━━━━━━━━━━━━━━━━━━━━━━━━━\u001b[0m \u001b[32m50.9/50.9 kB\u001b[0m \u001b[31m2.0 MB/s\u001b[0m eta \u001b[36m0:00:00\u001b[0m\n",
            "\u001b[2K   \u001b[90m━━━━━━━━━━━━━━━━━━━━━━━━━━━━━━━━━━━━━━━━\u001b[0m \u001b[32m216.5/216.5 kB\u001b[0m \u001b[31m9.0 MB/s\u001b[0m eta \u001b[36m0:00:00\u001b[0m\n",
            "\u001b[?25h"
          ]
        }
      ],
      "source": [
        "!pip install --quiet -U langgraph langchain-openai langchain-community tavily-python"
      ]
    },
    {
      "cell_type": "markdown",
      "metadata": {
        "id": "D-QgftDDqfq2"
      },
      "source": [
        "## 將下列的小工具加進你的 plan-and-execute agent 裡面，使得輸出類似的結果\n",
        "\n",
        "> 小小 hint：tutorial 照摳就好好🙂，或是大家可以自己寫一些 function 或是找一些外部 api 工具，玩一下看看有什麼新花樣"
      ]
    },
    {
      "cell_type": "code",
      "execution_count": null,
      "metadata": {
        "id": "dVfBmy8iqBFN"
      },
      "outputs": [],
      "source": [
        "import requests\n",
        "import pandas as pd\n",
        "from langchain_core.tools import tool\n",
        "\n",
        "@tool\n",
        "def getMainBuyAndSale() :\n",
        "  \"\"\"台積電股價及其他相關資訊\"\"\"\n",
        "  url = f'https://pchome.megatime.com.tw/stock/sto1/ock4/sid' + '2330' + '.html'\n",
        "  payloads = {'is_check': '1'}\n",
        "  resp = requests.request(method='POST', url=url, data=payloads)\n",
        "  data = pd.read_html(resp.text)\n",
        "\n",
        "  return data"
      ]
    },
    {
      "cell_type": "code",
      "source": [
        "import os\n",
        "from google.colab import userdata\n",
        "\n",
        "# os.environ[\"OPENAI_API_KEY\"] = userdata.get('OPENAI_API_KEY')\n",
        "# os.environ[\"TAVILY_API_KEY\"] = userdata.get('TAVILY_API_KEY')"
      ],
      "metadata": {
        "id": "ATosLtSdPag_"
      },
      "execution_count": null,
      "outputs": []
    },
    {
      "cell_type": "code",
      "source": [
        "from langchain_core.tools import tool\n",
        "import datetime\n",
        "from langchain_community.tools.tavily_search import TavilySearchResults\n",
        "\n",
        "@tool\n",
        "def get_current_date() -> str:\n",
        "    \"\"\"取得現在的日期，格式為 YYYY-MM-DD\"\"\"\n",
        "    return datetime.datetime.now().strftime(\"%Y-%m-%d\")\n",
        "\n",
        "tools = [\n",
        "    TavilySearchResults(max_results=3),\n",
        "    get_current_date,\n",
        "    getMainBuyAndSale\n",
        "    ]"
      ],
      "metadata": {
        "colab": {
          "base_uri": "https://localhost:8080/"
        },
        "id": "oMG6wpTHPf2L",
        "outputId": "420e6ed5-110b-43ee-ca8f-963f4c51a1f2"
      },
      "execution_count": null,
      "outputs": [
        {
          "output_type": "stream",
          "name": "stderr",
          "text": [
            "/tmp/ipython-input-4-598696710.py:11: LangChainDeprecationWarning: The class `TavilySearchResults` was deprecated in LangChain 0.3.25 and will be removed in 1.0. An updated version of the class exists in the :class:`~langchain-tavily package and should be used instead. To use it run `pip install -U :class:`~langchain-tavily` and import as `from :class:`~langchain_tavily import TavilySearch``.\n",
            "  TavilySearchResults(max_results=3),\n"
          ]
        }
      ]
    },
    {
      "cell_type": "code",
      "execution_count": null,
      "metadata": {
        "id": "JpWKdivrrOi8"
      },
      "outputs": [],
      "source": [
        "from langchain_openai import ChatOpenAI\n",
        "from langgraph.prebuilt import create_react_agent\n",
        "\n",
        "# Choose the LLM that will drive the agent\n",
        "llm = ChatOpenAI(\n",
        "    model=\"gpt-4o-mini-2024-07-18\",\n",
        "    temperature=0\n",
        "    )\n",
        "\n",
        "prompt = \"你是一個專業等級的任務執行器，用來完美執行任務計劃。\"\n",
        "agent_executor = create_react_agent(\n",
        "    llm,\n",
        "    tools,\n",
        "    prompt=prompt,\n",
        "    # debug=True\n",
        "    )"
      ]
    },
    {
      "cell_type": "code",
      "source": [
        "from IPython.display import Image, display\n",
        "\n",
        "display(Image(agent_executor.get_graph(xray=True).draw_mermaid_png()))"
      ],
      "metadata": {
        "colab": {
          "base_uri": "https://localhost:8080/",
          "height": 266
        },
        "id": "NZorwATLQZOF",
        "outputId": "70823005-c085-4b91-d52e-e918db77782e"
      },
      "execution_count": null,
      "outputs": [
        {
          "output_type": "display_data",
          "data": {
            "image/png": "[encoded data removed]",
            "text/plain": [
              "<IPython.core.display.Image object>"
            ]
          },
          "metadata": {}
        }
      ]
    },
    {
      "cell_type": "code",
      "source": [
        "agent_executor.invoke({\"messages\": [(\"user\", \"今天幾號？\")]})"
      ],
      "metadata": {
        "colab": {
          "base_uri": "https://localhost:8080/"
        },
        "id": "5VjuJJwSQbir",
        "outputId": "0a0afe0e-d016-4597-e764-9fe3962e87d3"
      },
      "execution_count": null,
      "outputs": [
        {
          "output_type": "execute_result",
          "data": {
            "text/plain": [
              "{'messages': [HumanMessage(content='今天幾號？', additional_kwargs={}, response_metadata={}, id='b2ff88ee-ae2d-4df0-842e-b5eeae27df59'),\n",
              "  AIMessage(content='', additional_kwargs={'tool_calls': [{'id': 'call_kVsWr0PESrDMybqb97dup2Ja', 'function': {'arguments': '{}', 'name': 'get_current_date'}, 'type': 'function'}], 'refusal': None}, response_metadata={'token_usage': {'completion_tokens': 11, 'prompt_tokens': 153, 'total_tokens': 164, 'completion_tokens_details': {'accepted_prediction_tokens': 0, 'audio_tokens': 0, 'reasoning_tokens': 0, 'rejected_prediction_tokens': 0}, 'prompt_tokens_details': {'audio_tokens': 0, 'cached_tokens': 0}}, 'model_name': 'gpt-4o-mini-2024-07-18', 'system_fingerprint': 'fp_34a54ae93c', 'id': 'chatcmpl-BoiN7kRhPgkkwNVRXTbZ5Ttb5jIU4', 'service_tier': 'default', 'finish_reason': 'tool_calls', 'logprobs': None}, id='run--320cf8cc-cbe5-4716-9f2b-ce550b36aade-0', tool_calls=[{'name': 'get_current_date', 'args': {}, 'id': 'call_kVsWr0PESrDMybqb97dup2Ja', 'type': 'tool_call'}], usage_metadata={'input_tokens': 153, 'output_tokens': 11, 'total_tokens': 164, 'input_token_details': {'audio': 0, 'cache_read': 0}, 'output_token_details': {'audio': 0, 'reasoning': 0}}),\n",
              "  ToolMessage(content='2025-07-02', name='get_current_date', id='178d1631-dc20-4799-a46f-206847e42e08', tool_call_id='call_kVsWr0PESrDMybqb97dup2Ja'),\n",
              "  AIMessage(content='今天是2025年7月2日。', additional_kwargs={'refusal': None}, response_metadata={'token_usage': {'completion_tokens': 11, 'prompt_tokens': 179, 'total_tokens': 190, 'completion_tokens_details': {'accepted_prediction_tokens': 0, 'audio_tokens': 0, 'reasoning_tokens': 0, 'rejected_prediction_tokens': 0}, 'prompt_tokens_details': {'audio_tokens': 0, 'cached_tokens': 0}}, 'model_name': 'gpt-4o-mini-2024-07-18', 'system_fingerprint': 'fp_34a54ae93c', 'id': 'chatcmpl-BoiN9kyWWzpmRC0DYgRAYQKgPEaUu', 'service_tier': 'default', 'finish_reason': 'stop', 'logprobs': None}, id='run--8a73e13e-d7fb-41ce-9ac7-306d1ebf7691-0', usage_metadata={'input_tokens': 179, 'output_tokens': 11, 'total_tokens': 190, 'input_token_details': {'audio': 0, 'cache_read': 0}, 'output_token_details': {'audio': 0, 'reasoning': 0}})]}"
            ]
          },
          "metadata": {},
          "execution_count": 8
        }
      ]
    },
    {
      "cell_type": "code",
      "source": [
        "import operator\n",
        "from typing import Annotated, List, Tuple\n",
        "from typing_extensions import TypedDict\n",
        "\n",
        "\n",
        "class PlanExecute(TypedDict):\n",
        "    input: str\n",
        "    plan: List[str] # 待執行的步驟\n",
        "    past_steps: Annotated[List[Tuple], operator.add] # 執行步驟後的結果\n",
        "    response: str # 最終的問題回覆結果"
      ],
      "metadata": {
        "id": "6K8L6el2Qehl"
      },
      "execution_count": null,
      "outputs": []
    },
    {
      "cell_type": "code",
      "source": [
        "from langchain_core.prompts import ChatPromptTemplate\n",
        "from pydantic import BaseModel, Field\n",
        "\n",
        "class Plan(BaseModel):\n",
        "    \"\"\"未來要遵循的計劃\"\"\"\n",
        "\n",
        "    steps: List[str] = Field(description=\"不同的步驟，應按順序排列\")\n",
        "\n",
        "planner_prompt = ChatPromptTemplate.from_messages(\n",
        "    [\n",
        "        (\n",
        "            \"system\",\n",
        "            \"\"\"\n",
        "            你是一個專業等級的任務規劃器。\n",
        "            請根據指定目標，擬定一份簡潔的逐步執行計畫。\n",
        "            此計畫應包含一系列獨立的任務，每個任務若正確執行，將逐步導向正確的答案。\n",
        "            請避免加入任何多餘的步驟。\n",
        "            最終步驟的執行結果即為最終答案。\n",
        "            請確保每個步驟皆包含完成所需的所有資訊，不得跳過任何必要步驟。\n",
        "            \"\"\",\n",
        "        ),\n",
        "        (\"placeholder\", \"{messages}\"),\n",
        "    ]\n",
        ")"
      ],
      "metadata": {
        "id": "3DRqYzwgQg7S"
      },
      "execution_count": null,
      "outputs": []
    },
    {
      "cell_type": "code",
      "source": [
        "planner = planner_prompt | ChatOpenAI(\n",
        "    model=\"gpt-4.1-2025-04-14\",\n",
        "    temperature=0\n",
        ").with_structured_output(Plan)"
      ],
      "metadata": {
        "id": "pFWgifXhQja3"
      },
      "execution_count": null,
      "outputs": []
    },
    {
      "cell_type": "code",
      "source": [
        "planner.invoke(\n",
        "    {\n",
        "        \"messages\": [\n",
        "            (\"user\", \"明天適合進場台積電嗎?\")\n",
        "        ]\n",
        "    }\n",
        ")"
      ],
      "metadata": {
        "colab": {
          "base_uri": "https://localhost:8080/"
        },
        "id": "4NpO2HKfQmvr",
        "outputId": "0268583f-3e4f-4c23-8579-3997707f57e2"
      },
      "execution_count": 20,
      "outputs": [
        {
          "output_type": "execute_result",
          "data": {
            "text/plain": [
              "Plan(steps=['查詢台積電（2330）最新收盤價及今日盤後消息。', '分析台積電近期技術線型（如均線、支撐壓力、成交量等）。', '查閱近期台積電相關基本面消息（如財報、產業新聞、法說會資訊）。', '檢視大盤（加權指數）及半導體產業整體趨勢。', '評估自身投資目標、風險承受度及資金配置。', '根據上述分析，判斷明天是否適合進場台積電。'])"
            ]
          },
          "metadata": {},
          "execution_count": 20
        }
      ]
    },
    {
      "cell_type": "code",
      "source": [
        "from typing import Union\n",
        "\n",
        "\n",
        "class Response(BaseModel):\n",
        "    \"\"\"回應使用者的內容\"\"\"\n",
        "\n",
        "    response: str\n",
        "\n",
        "\n",
        "class Act(BaseModel):\n",
        "    \"\"\"要執行的動作\"\"\"\n",
        "\n",
        "    action: Union[Response, Plan] = Field(\n",
        "        description=\"要執行的動作： 若要回應使用者，請使用'Response'。\"\n",
        "        \"若需進一步使用工具以取得答案，請使用'Plan'。\"\n",
        "    )\n",
        "\n",
        "replanner_prompt = ChatPromptTemplate.from_template(\n",
        "    \"\"\"\n",
        "    你是一個專業等級的任務規劃器。\n",
        "    請根據指定目標，擬定一份簡潔的逐步執行計畫。\n",
        "    此計畫應包含一系列獨立的任務，每個任務若正確執行，將逐步導向正確的答案。\n",
        "    請避免加入任何多餘的步驟。\n",
        "    最終步驟的執行結果即為最終答案。\n",
        "    請確保每個步驟皆包含完成所需的所有資訊，不得跳過任何必要步驟。\n",
        "\n",
        "    本次任務的目標為：\n",
        "    {input}\n",
        "\n",
        "    你原先擬定的計畫為：\n",
        "    {plan}\n",
        "\n",
        "    目前已執行的步驟如下：\n",
        "    {past_steps}\n",
        "\n",
        "    請根據目前進度，調整後續的執行計畫。\n",
        "    若已無需進一步步驟，並可直接回應使用者，請進行回應；\n",
        "    若仍需執行工具或任務取得答案，請補足剩餘計畫。\n",
        "    請僅列出尚未完成且仍需執行的步驟，勿重複列出已執行的部分。\n",
        "    \"\"\"\n",
        ")"
      ],
      "metadata": {
        "id": "MXE30YhOQ1Gw"
      },
      "execution_count": 21,
      "outputs": []
    },
    {
      "cell_type": "code",
      "source": [
        "replanner = replanner_prompt | ChatOpenAI(\n",
        "    model=\"gpt-4.1-2025-04-14\",\n",
        "    temperature=0\n",
        ").with_structured_output(Act)"
      ],
      "metadata": {
        "id": "OQzFah_SQ5uz"
      },
      "execution_count": 22,
      "outputs": []
    },
    {
      "cell_type": "code",
      "source": [
        "from langgraph.graph import END\n",
        "\n",
        "\n",
        "# 執行計劃中的第一個步驟\n",
        "async def execute_step(state: PlanExecute):\n",
        "    plan = state[\"plan\"]\n",
        "    # 將所有步驟編號整理成文字（用於提示）\n",
        "    plan_str = \"\\n\".join(f\"{i+1}. {step}\" for i, step in enumerate(plan))\n",
        "    task = plan[0] # 抓出第一個尚未執行的步驟\n",
        "    task_formatted = f\"\"\"針對以下計劃：{plan_str}\\n\\n你的任務是執行 step {1}, {task}.\"\"\"\n",
        "\n",
        "    # 呼叫執行器執行該步驟\n",
        "    agent_response = await agent_executor.ainvoke(\n",
        "        {\"messages\": [(\"user\", task_formatted)]}\n",
        "    )\n",
        "\n",
        "    # 回傳本次執行結果（步驟與回應）\n",
        "    return {\n",
        "        \"past_steps\": [(task, agent_response[\"messages\"][-1].content)],\n",
        "    }\n",
        "\n",
        "# 初始規劃流程\n",
        "async def plan_step(state: PlanExecute):\n",
        "    plan = await planner.ainvoke({\"messages\": [(\"user\", state[\"input\"])]})\n",
        "    return {\"plan\": plan.steps}\n",
        "\n",
        "# 根據已完成的步驟與整體輸入，更新後續步驟或直接產生答案。\n",
        "async def replan_step(state: PlanExecute):\n",
        "    output = await replanner.ainvoke(state)\n",
        "\n",
        "    # 若模型決定可以直接回覆使用者（任務結束），則回傳結果\n",
        "    if isinstance(output.action, Response):\n",
        "        return {\"response\": output.action.response}\n",
        "    else:\n",
        "        # 否則更新剩餘計劃\n",
        "        return {\"plan\": output.action.steps}\n",
        "\n",
        "# 檢查是否已經產生最終回應，決定是否結束流程\n",
        "def should_end(state: PlanExecute):\n",
        "    if \"response\" in state and state[\"response\"]:\n",
        "        return END\n",
        "    else:\n",
        "        return \"executor\""
      ],
      "metadata": {
        "id": "guSwYHXsQObH"
      },
      "execution_count": 23,
      "outputs": []
    },
    {
      "cell_type": "code",
      "source": [
        "from langgraph.graph import StateGraph, START\n",
        "\n",
        "graph_builder = StateGraph(PlanExecute)\n",
        "\n",
        "graph_builder.add_node(\"planner\", plan_step) # 新增規劃器節點\n",
        "graph_builder.add_node(\"executor\", execute_step) # 新增執行器節點\n",
        "graph_builder.add_node(\"replanner\", replan_step) # 新增重新規劃器節點\n",
        "\n",
        "graph_builder.add_edge(START, \"planner\")\n",
        "graph_builder.add_edge(\"planner\", \"executor\") # 將規劃器與執行器連接\n",
        "graph_builder.add_edge(\"executor\", \"replanner\") # 將執行器與重新規劃器連接\n",
        "\n",
        "graph_builder.add_conditional_edges(\n",
        "    \"replanner\",\n",
        "    should_end,\n",
        "    [\"executor\", END],\n",
        ")\n",
        "\n",
        "graph = graph_builder.compile()"
      ],
      "metadata": {
        "id": "YmEC1um1QOiq"
      },
      "execution_count": 24,
      "outputs": []
    },
    {
      "cell_type": "code",
      "source": [
        "from IPython.display import Image, display\n",
        "\n",
        "display(Image(graph.get_graph(xray=True).draw_mermaid_png()))"
      ],
      "metadata": {
        "colab": {
          "base_uri": "https://localhost:8080/",
          "height": 697
        },
        "id": "QpKgLH4kQJpv",
        "outputId": "9e3421cf-6a2d-4bff-f6c6-d35e06d80051"
      },
      "execution_count": 25,
      "outputs": [
        {
          "output_type": "display_data",
          "data": {
            "image/png": "[encoded data removed]",
            "text/plain": [
              "<IPython.core.display.Image object>"
            ]
          },
          "metadata": {}
        }
      ]
    },
    {
      "cell_type": "code",
      "source": [
        "from langchain_core.callbacks.base import BaseCallbackHandler\n",
        "\n",
        "class PrintToolNameHandler(BaseCallbackHandler):\n",
        "    def on_tool_start(self, serialized_tool: dict, input_str, **kwargs):\n",
        "        tool_name = serialized_tool.get(\"name\", \"<unknown>\")\n",
        "        print(f\"[Tool name] {tool_name}\")"
      ],
      "metadata": {
        "id": "3eG1xeE5QEPi"
      },
      "execution_count": 26,
      "outputs": []
    },
    {
      "cell_type": "code",
      "execution_count": 27,
      "metadata": {
        "colab": {
          "base_uri": "https://localhost:8080/"
        },
        "id": "2uMYMqy8o8Yy",
        "outputId": "bba0bdd1-3e5f-4b4e-b415-82eec2e4704f"
      },
      "outputs": [
        {
          "output_type": "stream",
          "name": "stdout",
          "text": [
            "[plan]\n",
            "1. 查詢台積電(TSMC)最新的股價與技術指標（如K線、均線、成交量等）。\n",
            "2. 分析台積電近期的財報、產業消息與市場情緒。\n",
            "3. 檢視大盤（如台灣加權指數）及半導體產業整體走勢。\n",
            "4. 評估自身投資目標、風險承受度與資金配置狀況。\n",
            "5. 根據上述分析，判斷明天是否適合進場台積電。\n",
            "\n",
            "\n",
            "[Tool name] getMainBuyAndSale\n"
          ]
        },
        {
          "output_type": "stream",
          "name": "stderr",
          "text": [
            "/tmp/ipython-input-2-938373103.py:11: FutureWarning: Passing literal html to 'read_html' is deprecated and will be removed in a future version. To read from a literal string, wrap it in a 'StringIO' object.\n",
            "  data = pd.read_html(resp.text)\n"
          ]
        },
        {
          "output_type": "stream",
          "name": "stdout",
          "text": [
            "[past_steps]\n",
            "查詢台積電(TSMC)最新的股價與技術指標（如K線、均線、成交量等）。\n",
            "以下是台積電（TSMC）的最新股價與技術指標資訊：\n",
            "\n",
            "- **最新股價**：\n",
            "  - 開盤價：1075.0\n",
            "  - 最高價：1085.0\n",
            "  - 最低價：1070.0\n",
            "  - 昨收價：1085.0\n",
            "\n",
            "- **成交量**：\n",
            "  - 成交張數：23674\n",
            "\n",
            "- **買賣資訊**：\n",
            "  - 買價：1080.0\n",
            "  - 買量：153\n",
            "  - 賣價：1085.0\n",
            "  - 賣量：2395\n",
            "\n",
            "- **主力進出**：\n",
            "  - 買超券商：\n",
            "    - 美商高盛：買進5963張，賣出1186張，買進均價360.15，賣出均價1082.83\n",
            "    - 摩根士丹利：買進9032張，賣出5273張，買進均價237.77，賣出均價407.26\n",
            "    - 美林證券：買進4567張，賣出1673張，買進均價470.19，賣出均價1084.22\n",
            "    - 其他券商亦有買進與賣出數據。\n",
            "\n",
            "這些數據顯示了台積電的當前市場狀況，接下來可以進行更深入的分析。\n",
            "\n",
            "\n",
            "[plan]\n",
            "1. 分析台積電近期的財報、產業消息與市場情緒。\n",
            "2. 檢視大盤（如台灣加權指數）及半導體產業整體走勢。\n",
            "3. 評估自身投資目標、風險承受度與資金配置狀況。\n",
            "4. 根據上述分析，判斷明天是否適合進場台積電。\n",
            "\n",
            "\n",
            "[Tool name] tavily_search_results_json[Tool name] tavily_search_results_json\n",
            "[Tool name] tavily_search_results_json\n",
            "\n",
            "[past_steps]\n",
            "分析台積電近期的財報、產業消息與市場情緒。\n",
            "### 台積電近期財報、產業消息與市場情緒分析\n",
            "\n",
            "#### 1. 近期財報\n",
            "- **財報概況**: 台積電（TSMC）在2025年5月的月營收達到320,515,951千元，年增39.59%。這顯示出公司在營收上持續增長，並且在過去15個月中持續成長。\n",
            "- **每股收益**: 預計2025年第一季每股收益為2.12美元，營收預測為839.25億美元，顯示出穩定的盈利能力。\n",
            "- **財務比率**: 台積電的毛利率和淨利率在過去幾個月中保持在高位，顯示出其在成本控制和市場需求方面的優勢。\n",
            "\n",
            "#### 2. 產業消息\n",
            "- **合作與研發**: 台積電與東京大學合作成立的“TSMC-UTokyo Lab”已正式啟用，這將推動先進半導體技術的研發和人才培養。\n",
            "- **市場需求**: 隨著AI和高效能計算需求的增加，台積電的產品需求持續上升，特別是在高效能計算（HPC）和人工智慧（AI）領域。\n",
            "- **競爭環境**: 台積電在全球半導體市場中仍然保持領先地位，面對來自其他半導體製造商的競爭，台積電的技術優勢和生產能力使其能夠穩定市場份額。\n",
            "\n",
            "#### 3. 市場情緒\n",
            "- **投資者情緒**: 近期市場對台積電的情緒偏向正面，許多分析師對其未來的增長潛力持樂觀態度。儘管面臨市場波動，投資者對台積電的信心依然強勁。\n",
            "- **股價走勢**: 台積電的股價在近期經歷了一定的波動，但整體趨勢仍然向上，顯示出市場對其未來表現的期待。\n",
            "\n",
            "### 總結\n",
            "根據近期的財報、產業消息和市場情緒，台積電在營收增長、技術研發和市場需求方面均顯示出強勁的表現。這些因素可能使得明天進場台積電的決策具有吸引力。然而，投資者仍需考慮市場波動和個人風險承受能力。\n",
            "\n",
            "\n",
            "[plan]\n",
            "1. 檢視大盤（如台灣加權指數）及半導體產業整體走勢。\n",
            "2. 評估自身投資目標、風險承受度與資金配置狀況。\n",
            "3. 根據上述分析，判斷明天是否適合進場台積電。\n",
            "\n",
            "\n",
            "[Tool name] tavily_search_results_json[Tool name] tavily_search_results_json\n",
            "\n",
            "[past_steps]\n",
            "檢視大盤（如台灣加權指數）及半導體產業整體走勢。\n",
            "### 大盤走勢：台灣加權指數\n",
            "\n",
            "1. **目前指數**：台灣加權指數（TWII）目前報22,477.34點，較前一交易日上漲0.19%。\n",
            "2. **交易情況**：\n",
            "   - 開盤：22,463.55\n",
            "   - 最高：22,525.89\n",
            "   - 最低：22,396.26\n",
            "   - 成交量：1,997.11億台幣\n",
            "3. **技術指標**：\n",
            "   - 短期均線（SMA5）：22,133.49\n",
            "   - 中期均線（SMA20）：21,792.20\n",
            "   - 長期均線（SMA60）：20,899.56\n",
            "\n",
            "更多資訊可參考 [Yahoo 財經](https://tw.stock.yahoo.com/quote/%5ETWII)。\n",
            "\n",
            "### 半導體產業走勢\n",
            "\n",
            "1. **市場趨勢**：\n",
            "   - 半導體產業在2023年至2028年間預計將持續增長，尤其是在電動車、AI及高效能計算等領域的需求推動下。\n",
            "   - 2024年全球半導體產值預計將達到6,112億美元，2025年將增長至6,874億美元，年增率約12.5%。\n",
            "2. **技術發展**：\n",
            "   - SiC（碳化矽）和GaN（氮化鎵）等新材料的應用將推動半導體市場的增長，這些材料在高效能和高頻率應用中表現優異。\n",
            "3. **市場挑戰**：\n",
            "   - 全球供應鏈的變化及地緣政治因素可能影響半導體產業的穩定性。\n",
            "\n",
            "更多詳細資訊可參考 [OOSGA](https://zh.oosga.com/industries/semiconductor/) 和 [WPG大達通](https://www.wpgdadatong.com/blog/detail/77393)。\n",
            "\n",
            "### 總結\n",
            "目前台灣加權指數呈現穩定上升趨勢，而半導體產業則因需求增長而持續擴張。這些因素可能對台積電的股價產生正面影響，為進場提供了良好的市場背景。接下來可以進行第二步，評估自身的投資目標和風險承受度。\n",
            "\n",
            "\n",
            "[plan]\n",
            "1. 評估自身投資目標、風險承受度與資金配置狀況。\n",
            "2. 根據上述所有分析與個人條件，判斷明天是否適合進場台積電。\n",
            "\n",
            "\n",
            "[past_steps]\n",
            "評估自身投資目標、風險承受度與資金配置狀況。\n",
            "要評估自身的投資目標、風險承受度與資金配置狀況，可以考慮以下幾個方面：\n",
            "\n",
            "### 1. 投資目標\n",
            "- **短期 vs. 長期**：你是希望在短期內獲利，還是有長期的投資計劃？\n",
            "- **收益目標**：你期望的年回報率是多少？這個目標是否現實？\n",
            "- **資金用途**：這些投資資金是用於退休、購房、子女教育還是其他用途？\n",
            "\n",
            "### 2. 風險承受度\n",
            "- **風險偏好**：你對於市場波動的容忍度如何？能否接受資產價值的短期波動？\n",
            "- **過去經驗**：你過去的投資經驗如何？是否曾經遭遇過重大損失？這些經歷如何影響你的風險承受度？\n",
            "- **心理因素**：在市場下跌時，你的情緒反應如何？是否容易恐慌？\n",
            "\n",
            "### 3. 資金配置狀況\n",
            "- **資金來源**：你的投資資金來自於哪裡？是儲蓄、收入還是其他來源？\n",
            "- **資金比例**：目前的資金配置如何？在股票、債券、現金等不同資產類別中的比例是多少？\n",
            "- **流動性需求**：你是否需要在短期內使用這些資金？如果需要，應該保留多少流動資金？\n",
            "\n",
            "### 總結\n",
            "在評估完上述因素後，你可以更清楚地了解自己的投資狀況，並為下一步的投資決策提供依據。接下來，你可以根據這些分析來判斷明天是否適合進場台積電。\n",
            "\n",
            "如果你需要具體的數據或資訊來進行這些評估，請告訴我，我可以幫助你獲取相關的市場資訊或數據。\n",
            "\n",
            "\n",
            "[plan]\n",
            "1. 根據上述所有分析與個人條件，判斷明天是否適合進場台積電，並給出明確建議。\n",
            "\n",
            "\n",
            "[Tool name] get_current_date[Tool name] getMainBuyAndSale\n",
            "\n"
          ]
        },
        {
          "output_type": "stream",
          "name": "stderr",
          "text": [
            "/tmp/ipython-input-2-938373103.py:11: FutureWarning: Passing literal html to 'read_html' is deprecated and will be removed in a future version. To read from a literal string, wrap it in a 'StringIO' object.\n",
            "  data = pd.read_html(resp.text)\n"
          ]
        },
        {
          "output_type": "stream",
          "name": "stdout",
          "text": [
            "[past_steps]\n",
            "根據上述所有分析與個人條件，判斷明天是否適合進場台積電，並給出明確建議。\n",
            "根據目前的台積電股價及交易資訊，以下是對於明天是否適合進場的分析與建議：\n",
            "\n",
            "### 當前股價資訊\n",
            "- **台積電最新股價**：1085.00\n",
            "- **最高價**：1085.00\n",
            "- **最低價**：1070.00\n",
            "- **買進量**：5963\n",
            "- **賣出量**：1186\n",
            "- **買進平均價格**：360.15\n",
            "- **賣出平均價格**：1082.83\n",
            "\n",
            "### 市場情況分析\n",
            "1. **買賣量**：目前的買進量（5963）遠高於賣出量（1186），顯示出市場對於台積電的需求強勁，這可能是進場的好時機。\n",
            "2. **價格波動**：股價在1085.00附近波動，且最低曾到1070.00，顯示出一定的支撐位。\n",
            "3. **市場情緒**：從買進量與賣出量的比例來看，市場情緒偏向樂觀，這可能會推動股價上漲。\n",
            "\n",
            "### 建議\n",
            "- **進場時機**：如果您對於台積電的長期前景持正面看法，且能接受短期內的價格波動，建議可以考慮在明天進場。\n",
            "- **風險管理**：建議設置止損點，以防止股價出現意外下跌。可以考慮在1070.00以下設置止損點。\n",
            "- **持有策略**：若進場後股價上漲至1090.00以上，可以考慮部分獲利了結。\n",
            "\n",
            "### 結論\n",
            "綜合以上分析，明天適合進場台積電，但需謹慎操作並設置風險管理措施。\n",
            "\n",
            "\n",
            "[response]\n",
            "根據目前已完成的所有步驟，已經綜合考量了台積電的最新股價、技術指標、財報、產業消息、市場情緒、大盤與產業趨勢，以及個人投資目標與風險承受度，並已給出明確的進場建議與風險管理措施。\n",
            "\n",
            "因此，所有必要步驟皆已完成，無需再執行其他任務。\n",
            "\n",
            "結論：\n",
            "若您對台積電長期前景持正面看法，且能接受短期波動，明天適合進場台積電，建議設置止損點（如1070.00以下），並做好風險管理。\n",
            "\n",
            "\n"
          ]
        }
      ],
      "source": [
        "config = {\"recursion_limit\": 50,\n",
        "          \"callbacks\":[PrintToolNameHandler()]}\n",
        "inputs = {\"input\": \"明天適合進場台積電嗎?\"}\n",
        "\n",
        "async for event in graph.astream(inputs, config=config):\n",
        "    for k, v in event.items():\n",
        "        if k != \"__end__\":\n",
        "            for step in v.keys():\n",
        "              if step == \"plan\":\n",
        "                print(f\"[{step}]\")\n",
        "                for idx, action in enumerate(v[step]):\n",
        "                  print(f\"{idx+1}. {action}\")\n",
        "\n",
        "              elif step == \"past_steps\":\n",
        "                print(f\"[{step}]\")\n",
        "                for action in v[step][0]:\n",
        "                  print(action)\n",
        "\n",
        "              else:\n",
        "                print(f\"[{step}]\")\n",
        "                print(v[step])\n",
        "    print('\\n')"
      ]
    }
  ],
  "metadata": {
    "colab": {
      "provenance": []
    },
    "kernelspec": {
      "display_name": "Python 3",
      "name": "python3"
    },
    "language_info": {
      "name": "python"
    }
  },
  "nbformat": 4,
  "nbformat_minor": 0
}
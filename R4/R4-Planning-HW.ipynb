{
  "cells": [
    {
      "cell_type": "markdown",
      "metadata": {
        "id": "TG12VsuLzE9d"
      },
      "source": [
        "# 非程式題"
      ]
    },
    {
      "cell_type": "markdown",
      "metadata": {
        "id": "2aM7kAEFzT5a"
      },
      "source": [
        "1. 如果 Agent 沒有 planning 能力會有什麼缺點？\n",
        "\n",
        "2. planning 在實務應用上會碰到什麼困難？"
      ]
    },
    {
      "cell_type": "markdown",
      "metadata": {
        "id": "HQPwZnj7y_xe"
      },
      "source": [
        "# 程式題"
      ]
    },
    {
      "cell_type": "code",
      "execution_count": null,
      "metadata": {
        "id": "fBy65z3sDzQP"
      },
      "outputs": [],
      "source": [
        "!pip install --quiet -U langgraph langchain-openai langchain-community tavily-python"
      ]
    },
    {
      "cell_type": "markdown",
      "metadata": {
        "id": "D-QgftDDqfq2"
      },
      "source": [
        "## 將下列的小工具加進你的 plan-and-execute agent 裡面，使得輸出類似的結果\n",
        "\n",
        "> 小小 hint：tutorial 照摳就好好🙂，或是大家可以自己寫一些 function 或是找一些外部 api 工具，玩一下看看有什麼新花樣"
      ]
    },
    {
      "cell_type": "code",
      "execution_count": null,
      "metadata": {
        "id": "dVfBmy8iqBFN"
      },
      "outputs": [],
      "source": [
        "import requests\n",
        "import pandas as pd\n",
        "from langchain_core.tools import tool\n",
        "\n",
        "@tool\n",
        "def getMainBuyAndSale() :\n",
        "  \"\"\"台積電股價及其他相關資訊\"\"\"\n",
        "  url = f'https://pchome.megatime.com.tw/stock/sto1/ock4/sid' + '2330' + '.html'\n",
        "  payloads = {'is_check': '1'}\n",
        "  resp = requests.request(method='POST', url=url, data=payloads)\n",
        "  data = pd.read_html(resp.text)\n",
        "\n",
        "  return data"
      ]
    },
    {
      "cell_type": "code",
      "execution_count": null,
      "metadata": {
        "id": "JpWKdivrrOi8"
      },
      "outputs": [],
      "source": [
        "\"\"\"\n",
        "\n",
        "你的程式\n",
        "\n",
        "\"\"\""
      ]
    },
    {
      "cell_type": "code",
      "execution_count": null,
      "metadata": {
        "colab": {
          "base_uri": "https://localhost:8080/"
        },
        "id": "2uMYMqy8o8Yy",
        "outputId": "b15525d5-8047-4f04-f49d-629a6b15bb73"
      },
      "outputs": [
        {
          "name": "stdout",
          "output_type": "stream",
          "text": [
            "[plan]\n",
            "1. 查詢台積電（2330）最新收盤價及今日相關新聞。\n",
            "2. 分析台積電近期技術線型（如均線、成交量、K線型態）。\n",
            "3. 檢視台積電近期基本面消息（如財報、產業消息、法說會重點）。\n",
            "4. 查詢大盤（加權指數）及半導體產業指數的近期走勢與趨勢。\n",
            "5. 評估市場整體情緒（如外資買賣超、融資融券變化）。\n",
            "6. 根據上述資訊，判斷台積電明天是否具備進場條件。\n",
            "\n",
            "\n",
            "[Tool name] getMainBuyAndSale[Tool name] tavily_search_results_json\n",
            "\n"
          ]
        },
        {
          "name": "stderr",
          "output_type": "stream",
          "text": [
            "<ipython-input-53-629136516>:13: FutureWarning: Passing literal html to 'read_html' is deprecated and will be removed in a future version. To read from a literal string, wrap it in a 'StringIO' object.\n",
            "  data = pd.read_html(resp.text)\n"
          ]
        },
        {
          "name": "stdout",
          "output_type": "stream",
          "text": [
            "[past_steps]\n",
            "查詢台積電（2330）最新收盤價及今日相關新聞。\n",
            "### 台積電（2330）最新收盤價及今日相關新聞\n",
            "\n",
            "#### 最新收盤價\n",
            "- **收盤價**: 1030.0 元\n",
            "- **今日最高價**: 1040.0 元\n",
            "- **今日最低價**: 1025.0 元\n",
            "- **成交量**: 28348 張\n",
            "\n",
            "#### 今日相關新聞\n",
            "1. **[Yahoo 財經](https://tw.stock.yahoo.com/quote/2330.TW/news)**:\n",
            "   - 台積電（2330）在美股ADR上漲2.08%，收於215.43元，為1月24日以來的最高點。市場對AI需求持續增長的預期，推動了台積電的股價上漲。分析指出，台積電的業務在AI領域的需求將持續增強，並且預計2025年EPS將達到57.05元。\n",
            "\n",
            "2. **[HiStock](https://histock.tw/stock/news.aspx?no=2330)**:\n",
            "   - 台積電的股價在今日交易中出現波動，市場對AI需求的強勁預期使得投資者對其未來表現持樂觀態度。\n",
            "\n",
            "3. **[Yahoo 財經](https://hk.finance.yahoo.com/quote/2330.TW/news/)**:\n",
            "   - 台積電股價近期表現強勁，今日開盤價為1055元，隨後下跌至1045元，顯示出市場的波動性。\n",
            "\n",
            "這些資訊顯示台積電在市場上仍然受到投資者的青睞，尤其是在AI需求增長的背景下。接下來的步驟將是分析其技術線型及基本面消息。\n",
            "\n",
            "\n",
            "[plan]\n",
            "1. 分析台積電近期技術線型（如均線、成交量、K線型態）。\n",
            "2. 檢視台積電近期基本面消息（如財報、產業消息、法說會重點）。\n",
            "3. 查詢大盤（加權指數）及半導體產業指數的近期走勢與趨勢。\n",
            "4. 評估市場整體情緒（如外資買賣超、融資融券變化）。\n",
            "5. 根據上述資訊，判斷台積電明天是否具備進場條件。\n",
            "\n",
            "\n",
            "[Tool name] getMainBuyAndSale\n"
          ]
        },
        {
          "name": "stderr",
          "output_type": "stream",
          "text": [
            "<ipython-input-53-629136516>:13: FutureWarning: Passing literal html to 'read_html' is deprecated and will be removed in a future version. To read from a literal string, wrap it in a 'StringIO' object.\n",
            "  data = pd.read_html(resp.text)\n"
          ]
        },
        {
          "name": "stdout",
          "output_type": "stream",
          "text": [
            "[past_steps]\n",
            "分析台積電近期技術線型（如均線、成交量、K線型態）。\n",
            "### 台積電近期技術線型分析\n",
            "\n",
            "1. **股價走勢**:\n",
            "   - **今日收盤價**: 1025.0元\n",
            "   - **漲跌幅**: -15.0元\n",
            "   - **開盤價**: 1040.0元\n",
            "   - **最高價**: 1040.0元\n",
            "   - **最低價**: 1025.0元\n",
            "   - **昨日收盤價**: 1045.0元\n",
            "\n",
            "2. **成交量**:\n",
            "   - **今日成交張數**: 28,348張\n",
            "   - **買進量**: 2,861張\n",
            "   - **賣出量**: 464張\n",
            "   - **主力買超**: 2,397張（主要買超券商包括美商高盛、摩根士丹利等）\n",
            "\n",
            "3. **均線分析**:\n",
            "   - 目前股價在短期均線（如5日、10日均線）下方，顯示出短期內可能存在賣壓。\n",
            "   - 若股價能突破1040元，則可能回升至均線附近。\n",
            "\n",
            "4. **K線型態**:\n",
            "   - 今日的K線為一根陰線，顯示出賣壓較重，且收盤價低於開盤價，顯示出市場情緒偏向悲觀。\n",
            "   - 需要觀察後續幾日的K線走勢，若出現反彈的陽線，則可能是短期反轉的信號。\n",
            "\n",
            "5. **成交量與價格關係**:\n",
            "   - 成交量相對於股價下跌的情況下，顯示出賣壓的強度，未來幾日若成交量持平或增加，可能會加強股價的波動性。\n",
            "\n",
            "### 總結\n",
            "目前台積電的技術線型顯示出短期內的賣壓，股價在均線下方，且今日的K線顯示出市場情緒偏向悲觀。需要密切關注後續的成交量及K線走勢，以判斷是否有反彈的機會。\n",
            "\n",
            "\n",
            "[plan]\n",
            "1. 檢視台積電近期基本面消息（如財報、產業消息、法說會重點）。\n",
            "2. 查詢大盤（加權指數）及半導體產業指數的近期走勢與趨勢。\n",
            "3. 評估市場整體情緒（如外資買賣超、融資融券變化）。\n",
            "4. 根據上述資訊，判斷台積電明天是否具備進場條件。\n",
            "\n",
            "\n",
            "[Tool name] tavily_search_results_json\n",
            "[past_steps]\n",
            "檢視台積電近期基本面消息（如財報、產業消息、法說會重點）。\n",
            "以下是台積電近期的基本面消息，包括財報、產業消息及法說會重點：\n",
            "\n",
            "1. **第一季財報**：\n",
            "   - 台積電於17日召開法人說明會，公布第1季財報，單季營收為8,392.5億元，毛利率為58.8%，每股純益（EPS）為13.94元。\n",
            "   - 預估第2季美元營收將在284億到292億美元之間，毛利率預估為57%至59%，營益率為47%至49%。\n",
            "\n",
            "2. **法說會重點**：\n",
            "   - 台積電將全年營收成長目標由24%～29%上修至約35%。\n",
            "   - 受手機、PC及消費電子庫存影響有限，車用、資料中心及高效能運算（HPC）需求穩健。\n",
            "   - 魏哲家表示，台積電正在加碼美國投資，預計將有約30%的2奈米及以上產能位於亞利桑那州，以支援蘋果、輝達、超微、高通與博通等客戶的需求。\n",
            "\n",
            "3. **關稅與市場需求**：\n",
            "   - 魏哲家提到，雖然關稅帶來不確定性，但尚未見客戶態度改變，並將持續關注對終端市場需求的潛在影響。\n",
            "   - 台積電重申今年的資本支出預估在380至420億美元之間，符合市場預期。\n",
            "\n",
            "4. **未來展望**：\n",
            "   - 魏哲家強調，台積電將專注於業務基本面，並有信心在技術領先及卓越的製造能力下，持續超越晶圓代工2.0的年成長。\n",
            "\n",
            "這些資訊顯示台積電的基本面穩健，並且在面對市場需求和投資擴張方面持續積極。若需進一步分析或其他步驟，請告知！\n",
            "\n",
            "\n",
            "[plan]\n",
            "1. 查詢大盤（加權指數）及半導體產業指數的近期走勢與趨勢。\n",
            "2. 評估市場整體情緒（如外資買賣超、融資融券變化）。\n",
            "3. 根據上述資訊，判斷台積電明天是否具備進場條件。\n",
            "\n",
            "\n",
            "[Tool name] tavily_search_results_json[Tool name] tavily_search_results_json\n",
            "\n",
            "[past_steps]\n",
            "查詢大盤（加權指數）及半導體產業指數的近期走勢與趨勢。\n",
            "### 近期大盤（加權指數）走勢與趨勢\n",
            "\n",
            "1. **加權指數近期走勢**:\n",
            "   - 當前加權指數為22,072.95，近期的最高點為22,228.01，最低點為21,984.36。\n",
            "   - 近期走勢顯示出輕微的下跌趨勢，最近的變化為-0.96%。\n",
            "   - 相關連結：[Yahoo股市 - 加權指數](https://tw.stock.yahoo.com/quote/%5ETWII)\n",
            "\n",
            "2. **加權指數技術分析**:\n",
            "   - 近期的走勢顯示出市場的波動性，並且在22,000點附近有一定的支撐。\n",
            "   - 目前的成交量為3,660.40億，顯示出市場的活躍度。\n",
            "\n",
            "### 近期半導體產業指數走勢與趨勢\n",
            "\n",
            "1. **半導體產業指數（SOX）近期走勢**:\n",
            "   - 近期半導體指數為622.82，顯示出-1.54%的下跌趨勢。\n",
            "   - 近期的最高點為643.65，最低點為581.43，顯示出市場的波動性。\n",
            "   - 相關連結：[Investing.com - 半導體指數](https://hk.investing.com/indices/phlx-semiconductor)\n",
            "\n",
            "2. **半導體產業指數技術分析**:\n",
            "   - 半導體產業指數的走勢顯示出市場的整體情緒偏向保守，並且在620點附近有一定的支撐。\n",
            "   - 近期的變化顯示出市場對於半導體產業的信心有所減弱。\n",
            "\n",
            "### 總結\n",
            "- 加權指數和半導體產業指數均顯示出近期的下跌趨勢，市場情緒偏向保守。\n",
            "- 接下來的步驟是評估市場整體情緒，包括外資買賣超和融資融券變化，以便進一步判斷台積電的進場條件。\n",
            "\n",
            "\n",
            "[plan]\n",
            "1. 評估市場整體情緒（如外資買賣超、融資融券變化）。\n",
            "2. 根據所有已蒐集的資訊，判斷台積電明天是否具備進場條件，並給出明確建議。\n",
            "\n",
            "\n",
            "[Tool name] getMainBuyAndSale\n"
          ]
        },
        {
          "name": "stderr",
          "output_type": "stream",
          "text": [
            "<ipython-input-53-629136516>:13: FutureWarning: Passing literal html to 'read_html' is deprecated and will be removed in a future version. To read from a literal string, wrap it in a 'StringIO' object.\n",
            "  data = pd.read_html(resp.text)\n"
          ]
        },
        {
          "name": "stdout",
          "output_type": "stream",
          "text": [
            "[past_steps]\n",
            "評估市場整體情緒（如外資買賣超、融資融券變化）。\n",
            "### 市場整體情緒評估\n",
            "\n",
            "1. **台積電股價變化**:\n",
            "   - **漲跌**: -15.0\n",
            "   - **成交張數**: 28,348\n",
            "   - **買價**: 1,025.0\n",
            "   - **賣價**: 1,030.0\n",
            "   - **開盤**: 1,040.0\n",
            "   - **最高**: 1,040.0\n",
            "   - **最低**: 1,025.0\n",
            "   - **昨收**: 1,045.0\n",
            "\n",
            "2. **外資買賣超**:\n",
            "   - **買超券商**:\n",
            "     - 美商高盛: 買進 2,861 張, 賣出 464 張, 買超 2,397 張\n",
            "     - 摩根士丹利: 買進 1,924 張, 賣出 818 張, 買超 1,107 張\n",
            "     - 凱基: 買進 2,719 張, 賣出 1,621 張, 買超 1,098 張\n",
            "     - 台灣匯立: 買進 2,001 張, 賣出 1,165 張, 買超 836 張\n",
            "     - 上海匯豐: 買進 1,155 張, 賣出 328 張, 買超 827 張\n",
            "\n",
            "   - **賣超券商**:\n",
            "     - 花旗環球: 買進 565 張, 賣出 1,784 張, 賣超 -1,220 張\n",
            "     - 華南永昌: 買進 258 張, 賣出 1,027 張, 賣超 -768 張\n",
            "     - 美林證券: 買進 1,598 張, 賣出 2,257 張, 賣超 -659 張\n",
            "     - 摩根大通: 買進 3,763 張, 賣出 4,268 張, 賣超 -505 張\n",
            "     - 新加坡瑞銀: 買進 3,578 張, 賣出 3,902 張, 賣超 -324 張\n",
            "\n",
            "### 總結\n",
            "- 外資在台積電的買超情況顯示出一定的買入意願，尤其是美商高盛和摩根士丹利等主要券商的買超數據。\n",
            "- 然而，整體市場情緒仍然受到賣超券商的影響，特別是花旗環球和華南永昌的賣超情況較為明顯。\n",
            "\n",
            "接下來，我將根據這些資訊進行台積電的進場條件判斷及建議。\n",
            "\n",
            "\n",
            "[response]\n",
            "根據目前已完成的所有步驟，已經蒐集並分析了台積電的最新收盤價、新聞、技術線型、基本面、產業與大盤趨勢，以及市場整體情緒（外資買賣超等）。所有必要資訊皆已齊備。\n",
            "\n",
            "綜合分析：\n",
            "- 台積電基本面穩健，AI需求帶動長線成長，法人說明會展望正向。\n",
            "- 技術面短線有賣壓，股價在均線下方，K線偏弱，需留意短期波動。\n",
            "- 大盤與半導體指數近期偏弱，市場情緒保守。\n",
            "- 外資雖有部分買超，但同時也有明顯賣超券商，市場分歧。\n",
            "\n",
            "結論建議：\n",
            "明天台積電短線技術面偏弱，市場情緒保守，雖然長線基本面佳，但短線進場風險較高。若偏好穩健操作，建議暫緩進場，等待技術面轉強或市場情緒回溫後再考慮進場。若願意承擔短線波動風險，可分批小量布局，但需嚴設停損。\n",
            "\n",
            "\n"
          ]
        }
      ],
      "source": [
        "config = {\"recursion_limit\": 50,\n",
        "          \"callbacks\":[PrintToolNameHandler()]}\n",
        "inputs = {\"input\": \"明天適合進場台積電嗎?\"}\n",
        "\n",
        "async for event in graph.astream(inputs, config=config):\n",
        "    for k, v in event.items():\n",
        "        if k != \"__end__\":\n",
        "            for step in v.keys():\n",
        "              if step == \"plan\":\n",
        "                print(f\"[{step}]\")\n",
        "                for idx, action in enumerate(v[step]):\n",
        "                  print(f\"{idx+1}. {action}\")\n",
        "\n",
        "              elif step == \"past_steps\":\n",
        "                print(f\"[{step}]\")\n",
        "                for action in v[step][0]:\n",
        "                  print(action)\n",
        "\n",
        "              else:\n",
        "                print(f\"[{step}]\")\n",
        "                print(v[step])\n",
        "    print('\\n')"
      ]
    }
  ],
  "metadata": {
    "colab": {
      "provenance": []
    },
    "kernelspec": {
      "display_name": "Python 3",
      "name": "python3"
    },
    "language_info": {
      "name": "python"
    }
  },
  "nbformat": 4,
  "nbformat_minor": 0
}

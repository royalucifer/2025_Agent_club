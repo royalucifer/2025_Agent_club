{
 "cells": [
  {
   "cell_type": "markdown",
   "metadata": {
    "id": "YzuZTjoZkt7a"
   },
   "source": [
    "# 0.Assignments\n",
    "\n",
    "👾 這個陽春的聊天機器人需要被優化！<br>\n",
    "若是一個對話串不間斷地持續進行，送進去的訊息量會很多，tokens數量也會跟著增加，會需要花比較多費用(💸💸💸)，也可能使模型的回應雜訊比較多而回應受到干擾，所以我們可以優化短期記憶。<br>\n",
    "另外，我們希望優化使用者體驗，我們可以根據聊天的內容整理出使用者的屬性，並在每一次跟使用者聊天時，都能根據這個使用者的狀況給予客製化的回應，因此我們要加入長期記憶的功能！\n",
    "\n",
    "<br>\n",
    "\n",
    "### 1. 短期記憶優化\n",
    "\n",
    "(1) 🔰 [基本版] 在短期記憶中，將chatbot node送入llm的訊息中加入trim的優化機制 (依據適當的tokens數量決定)\n",
    "\n",
    "\n",
    "<br>\n",
    "\n",
    "### 2. 加入長期記憶\n",
    "\n",
    "加入長期記憶，讓聊天機器人能夠記住使用者的資訊（名字、偏好語言、興趣），在下一次對話也能針對同個使用者的資訊，給予個人化的回答。\n",
    "\n",
    "(1) 🔰 [基本版]\n",
    "- chatbot node: 在chatbot node中，將該使用者的資訊取出，讓入prompt中讓llm依據使用者的資訊給予個人化的回答\n",
    "\n",
    "- write_memory node: 在每一次生成回答後，將使用者的資訊整理成一段對使用者的描述(使用llm，給予system prompt做指引，自行設計如何整理、需要整理哪些資訊)，將整理完的資訊整理到store (可跨threads存取的地方)。\n",
    "\n",
    "- config: config從原本的短期記憶只有thread_id, 也要加入user_id\n",
    "\n",
    "<img src=\"https://drive.google.com/uc?export=view&id=1H4Y0WplOi6R4Eo06Ac2JA_9TbZa2YaRD\" width=\"100\"/>\n",
    "\n",
    "\n",
    "(2) 👨‍🎓 [進階版]\n",
    "- chatbot node: 可以決定使用者的問題是否需要從長期記憶中取得資訊，以及需要取得什麼資訊\n",
    "- write_memory node: 可以整理成特定格式 (例如：使用with_structured_output，相關概念可以延伸到R3 tool calling內容)。例如：\n",
    "```\n",
    "user_profile = {\n",
    "  \"first_name\": \"XXXX\",\n",
    "  \"last_name\": \"OOO\",\n",
    "  \"preferred_lang\": [\"en\", \"zh-tw\"]\n",
    "}\n",
    "```\n",
    "- 也可以自行將graph結構調整自己喜歡的(增刪不同node, conditional router, ...)\n",
    "<br>\n",
    "備註：基本版是需要大家完成的，進階版可以自行決定是否挑戰，Enjoy the ride! 😎"
   ]
  },
  {
   "cell_type": "markdown",
   "metadata": {
    "id": "Zprt5eyzemnq"
   },
   "source": [
    "# 1.短期記憶"
   ]
  },
  {
   "cell_type": "markdown",
   "metadata": {
    "id": "PZHRs_NSsfnF"
   },
   "source": [
    "## (1) 基本版\n",
    "🔰 [基本版] 在短期記憶中，將chatbot node送入llm的訊息中加入trim的優化機制 (依據適當的tokens數量決定)\n",
    "\n",
    "note: 可以邊做邊看一下trim設定的效果以及內部運作的機制"
   ]
  },
  {
   "cell_type": "code",
   "execution_count": 1,
   "metadata": {
    "id": "Ep_VhJl4yKmN"
   },
   "outputs": [],
   "source": [
    "from langchain_openai import ChatOpenAI\n",
    "\n",
    "# Models\n",
    "chat_llm = ChatOpenAI(\n",
    "    openai_api_key=\"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\",\n",
    "    openai_api_base=\"https://openrouter.ai/api/v1\",\n",
    "    model_name=\"mistralai/mistral-small-3.1-24b-instruct:free\",\n",
    "    temperature=0.1\n",
    ")"
   ]
  },
  {
   "cell_type": "code",
   "execution_count": 2,
   "metadata": {
    "id": "bwyMby4dggqz"
   },
   "outputs": [],
   "source": [
    "from typing import Annotated\n",
    "from typing_extensions import TypedDict\n",
    "from langgraph.graph import StateGraph, START, END\n",
    "from langgraph.graph.message import add_messages\n",
    "from langchain_core.messages import HumanMessage, AIMessage, trim_messages\n",
    "from langchain_core.messages.utils import count_tokens_approximately\n",
    "from langchain_core.prompts import ChatPromptTemplate\n",
    "\n",
    "from langgraph.checkpoint.memory import MemorySaver\n",
    "\n",
    "class State(TypedDict):\n",
    "  messages: Annotated[list, add_messages]\n",
    "\n",
    "def chatbot(state: State):\n",
    "  trimmed_messages = trim_messages(\n",
    "    state[\"messages\"],\n",
    "    max_tokens=2000,\n",
    "    strategy=\"last\",\n",
    "    token_counter=count_tokens_approximately,\n",
    "    start_on=\"human\",\n",
    "    include_system=True,\n",
    "    allow_partial=False,\n",
    "  )\n",
    "\n",
    "  prompt_template = ChatPromptTemplate([\n",
    "    (\"system\", \"你是萬能的百科全書，能夠以自身的知識回答使用者問題\"),\n",
    "    (\"placeholder\", \"{messages}\"),\n",
    "  ])\n",
    "  chat_chain = prompt_template | chat_llm\n",
    "  response = chat_chain.invoke({\"messages\": trimmed_messages})\n",
    "  return {\"messages\": [response]}\n",
    "\n",
    "\n",
    "# 建立graph\n",
    "graph_builder = StateGraph(State)\n",
    "graph_builder.add_node(\"chatbot\", chatbot)\n",
    "graph_builder.add_edge(START, \"chatbot\")\n",
    "graph_builder.add_edge(\"chatbot\", END)\n",
    "\n",
    "# 加入短期記憶\n",
    "memory = MemorySaver()\n",
    "graph = graph_builder.compile(checkpointer=memory)\n"
   ]
  },
  {
   "cell_type": "code",
   "execution_count": 3,
   "metadata": {
    "colab": {
     "base_uri": "https://localhost:8080/",
     "height": 251
    },
    "executionInfo": {
     "elapsed": 98,
     "status": "ok",
     "timestamp": 1747562372976,
     "user": {
      "displayName": "Amice Lin",
      "userId": "14372695936729686037"
     },
     "user_tz": -480
    },
    "id": "Tfjeu3c4uhzz",
    "outputId": "20a71bd4-2c4f-464d-feff-25e3b04c85b4"
   },
   "outputs": [
    {
     "data": {
      "image/png": "[encoded data removed]",
      "text/plain": [
       "<IPython.core.display.Image object>"
      ]
     },
     "metadata": {},
     "output_type": "display_data"
    }
   ],
   "source": [
    "# 看一下graph\n",
    "from IPython.display import Image, display\n",
    "\n",
    "try:\n",
    "  display(Image(graph.get_graph().draw_mermaid_png()))\n",
    "except Exception as e:\n",
    "  print(e)\n",
    "  pass"
   ]
  },
  {
   "cell_type": "code",
   "execution_count": 4,
   "metadata": {
    "id": "2Ld1Zg3ersQC"
   },
   "outputs": [],
   "source": [
    "def stream_graph_updates(user_input: str, config: dict):\n",
    "    for event in graph.stream({\"messages\": [{\"role\": \"user\", \"content\": user_input}]}, config):\n",
    "      if \"chatbot\" in event:\n",
    "        for value in event.values():\n",
    "          print(\"Assistant:\", value[\"messages\"][-1].content)"
   ]
  },
  {
   "cell_type": "code",
   "execution_count": 5,
   "metadata": {
    "id": "Jn6-NIHc0jSG"
   },
   "outputs": [],
   "source": [
    "# 設定對話config (第一次對話)\n",
    "config = {\"configurable\": {\"thread_id\": \"conversation_1\"}} # thread_id: 對話id"
   ]
  },
  {
   "cell_type": "code",
   "execution_count": 6,
   "metadata": {
    "id": "wp-MDjLF0ntY"
   },
   "outputs": [
    {
     "name": "stdout",
     "output_type": "stream",
     "text": [
      "Assistant: 你好！有什麼我可以幫忙的嗎？無論是學習、工作、生活中的問題，還是其他你感興趣的話題，我都很樂意提供幫助。請隨時告訴我你需要什麼資訊或建議。\n",
      "Assistant: 蘋果公司（Apple Inc.）以其創新能力和產品設計而聞名，歷史上已經推出了許多革命性的產品。未來，蘋果可能會在以下幾個領域進行創新和發明：\n",
      "\n",
      "1. **增強現實（AR）和虛擬現實（VR）**：\n",
      "   - **AR眼鏡**：蘋果可能會推出自己的AR眼鏡，這些眼鏡可以用於遊戲、教育、醫療等多個領域。\n",
      "   - **VR頭戴設備**：雖然蘋果目前沒有推出VR頭戴設備，但這是一個潛在的發展方向。\n",
      "\n",
      "2. **健康與健身**：\n",
      "   - **Apple Watch**：蘋果可能會繼續改進Apple Watch，增加更多的健康監測功能，如血糖監測、心臟健康等。\n",
      "   - **健康應用**：開發更多的健康應用，幫助用戶管理自己的健康狀況。\n",
      "\n",
      "3. **自動駕駛汽車**：\n",
      "   - **Apple Car**：雖然蘋果的自動駕駛汽車項目（Project Titan）經歷了多次變動，但這仍然是一個潛在的發展方向。\n",
      "\n",
      "4. **人工智能（AI）和機器學習**：\n",
      "   - **Siri**：進一步改進Siri，使其更加智能和個性化。\n",
      "   - **AI應用**：開發更多基於AI的應用，如智能家居控制、個性化推薦等。\n",
      "\n",
      "5. **可穿戴設備**：\n",
      "   - **新型可穿戴設備**：除了Apple Watch，蘋果可能會推出其他形式的可穿戴設備，如智能手環、智能服裝等。\n",
      "\n",
      "6. **環保技術**：\n",
      "   - **可持續能源**：開發更多環保技術，如太陽能充電、可回收材料等，減少對環境的影響。\n",
      "\n",
      "7. **教育技術**：\n",
      "   - **教育平台**：開發更多教育應用和平台，幫助學生和教師更好地學習和教學。\n",
      "\n",
      "8. **家庭娛樂**：\n",
      "   - **Apple TV**：進一步改進Apple TV，增加更多的內容和功能，如遊戲、流媒體服務等。\n",
      "\n",
      "這些只是一些可能的發展方向，蘋果公司的創新能力和市場洞察力使得它在未來可能會推出更多令人驚喜的產品和技術。\n",
      "Assistant: 蘋果（Apple）和三星（Samsung）都是全球領先的科技公司，各自有其獨特的產品和創新。最近，兩家公司都推出了許多有趣的產品，以下是一些值得注意的產品對比：\n",
      "\n",
      "### 蘋果（Apple）\n",
      "\n",
      "1. **iPhone 15系列**：\n",
      "   - **動態島（Dynamic Island）**：iPhone 14 Pro和Pro Max引入的動態島設計在iPhone 15系列中進一步完善，提供更多的互動方式。\n",
      "   - **USB-C接口**：iPhone 15系列首次採用USB-C接口，這對於數據傳輸和充電速度有顯著提升。\n",
      "\n",
      "2. **Apple Watch Series 9**：\n",
      "   - **新增健康功能**：如血氧監測、心電圖（ECG）等，進一步強化健康監測能力。\n",
      "   - **改進的運動追蹤**：提供更精確的運動數據和分析。\n",
      "\n",
      "3. **MacBook Air M2**：\n",
      "   - **M2芯片**：搭載最新的M2芯片，性能和能效大幅提升。\n",
      "   - **設計改進**：更薄、更輕，並且擁有更長的電池續航時間。\n",
      "\n",
      "### 三星（Samsung）\n",
      "\n",
      "1. **Galaxy Z Fold 5和Z Flip 5**：\n",
      "   - **折疊屏技術**：三星的折疊屏手機在設計和耐久性上不斷改進，提供更流暢的使用體驗。\n",
      "   - **多任務處理**：折疊屏手機支持多任務處理，可以同時運行多個應用。\n",
      "\n",
      "2. **Galaxy Watch 6**：\n",
      "   - **健康監測**：提供全面的健康監測功能，如心率監測、睡眠追蹤、壓力管理等。\n",
      "   - **設計和舒適度**：輕薄設計，適合長時間佩戴。\n",
      "\n",
      "3. **Galaxy Book 3系列**：\n",
      "   - **高性能芯片**：搭載最新的Intel和AMD處理器，提供強大的計算能力。\n",
      "   - **長續航時間**：優化電池管理，提供更長的使用時間。\n",
      "\n",
      "### 對比\n",
      "\n",
      "- **創新設計**：三星在折疊屏手機方面的創新更加突出，而蘋果在iPhone上的動態島設計也非常有趣。\n",
      "- **健康功能**：兩家公司在可穿戴設備上的健康監測功能都非常強大，但蘋果的Apple Watch在健康應用方面可能更加成熟。\n",
      "- **性能和效能**：蘋果的M2芯片在性能和能效方面表現出色，而三星的Galaxy Book 3系列也提供強大的計算能力。\n",
      "\n",
      "總的來說，兩家公司各有千秋，蘋果在生態系統和用戶體驗方面有優勢，而三星在創新設計和多樣化產品線方面表現突出。具體哪個產品更有趣，可能取決於個人的需求和偏好。\n",
      "Goodbye!\n"
     ]
    }
   ],
   "source": [
    "# 開始對話 (可以輸入quit, exit, q，三選一停止對話)\n",
    "while True:\n",
    "  try:\n",
    "    user_input = input(\"User: \")\n",
    "    if user_input.lower() in [\"quit\", \"exit\", \"q\"]:\n",
    "      print(\"Goodbye!\")\n",
    "      break\n",
    "    stream_graph_updates(user_input, config)\n",
    "  except Exception as e:\n",
    "    print(e)\n",
    "    break"
   ]
  },
  {
   "cell_type": "markdown",
   "metadata": {
    "id": "JFqg436etzLs"
   },
   "source": [
    "---"
   ]
  },
  {
   "cell_type": "markdown",
   "metadata": {
    "id": "2O2TZ8VqBpuA"
   },
   "source": [
    "# 2.長期記憶"
   ]
  },
  {
   "cell_type": "markdown",
   "metadata": {
    "id": "zZSFFrWiuE3v"
   },
   "source": [
    "## (1) 基本版\n",
    "🔰 [基本版]\n",
    "- chatbot node: 在chatbot node中，將該使用者的資訊取出，讓入prompt中讓llm依據使用者的資訊給予個人化的回答\n",
    "\n",
    "- write_memory node: 在每一次生成回答後，將使用者的資訊整理成一段對使用者的描述(使用llm，給予system prompt做指引，自行設計如何整理、需要整理哪些資訊)，將整理完的資訊整理到store (可跨threads存取的地方)。\n",
    "\n",
    "- config: config從原本的短期記憶只有thread_id, 也要加入user_id\n",
    "\n",
    "<img src=\"https://drive.google.com/uc?export=view&id=1H4Y0WplOi6R4Eo06Ac2JA_9TbZa2YaRD\" width=\"100\"/>"
   ]
  },
  {
   "cell_type": "code",
   "execution_count": null,
   "metadata": {
    "id": "5czQ-VSKBICQ"
   },
   "outputs": [],
   "source": [
    "import uuid\n",
    "from typing import Annotated\n",
    "from typing_extensions import TypedDict\n",
    "from langgraph.checkpoint.memory import MemorySaver # within-thread memory\n",
    "from langgraph.store.memory import InMemoryStore # cross-thread store\n",
    "from langgraph.store.memory import BaseStore\n",
    "\n",
    "from langgraph.graph import StateGraph, START, END\n",
    "from langgraph.graph.message import add_messages\n",
    "\n",
    "from langchain_core.messages import HumanMessage, SystemMessage, AIMessage\n",
    "from langchain_core.runnables import RunnableConfig\n",
    "from langchain_core.prompts import ChatPromptTemplate\n",
    "from langchain_openai import ChatOpenAI\n",
    "\n",
    "\n",
    "class State(TypedDict):\n",
    "  messages: Annotated[list, add_messages]\n",
    "\n",
    "def chatbot(state: State, config: RunnableConfig, store: BaseStore):\n",
    "  user_id = config[\"configurable\"][\"user_id\"]\n",
    "\n",
    "  # long-term memory\n",
    "  memories = store.search(user_id)\n",
    "  user_profile = \"\"\n",
    "  if memories:\n",
    "    memories = \"\\n\".join([d.value[\"memory\"] for d in memories])\n",
    "    user_profile = (\n",
    "      f\"，回答時可參考以下使用者提供的相關資訊，依據用戶的偏好去調整本次回答\\n\"\n",
    "      f\"**user_profile**\\n{memories}\"\n",
    "    )\n",
    "    print(memories)\n",
    "\n",
    "  # llm response\n",
    "  prompt_template = ChatPromptTemplate([\n",
    "    (\"system\", \"你是萬能的百科全書，能夠以自身的知識回答使用者問題{user_profile}\"),\n",
    "    (\"placeholder\", \"{messages}\"),\n",
    "  ])\n",
    "  chat_chain = prompt_template | chat_llm\n",
    "  response = chat_chain.invoke({\"messages\": state[\"messages\"], \"user_profile\": user_profile})\n",
    "  return {\"messages\": [response]}\n",
    "\n",
    "\n",
    "def write_memory(state: State, config: RunnableConfig, store: BaseStore):\n",
    "  user_id = config[\"configurable\"][\"user_id\"]\n",
    "  memory_id = str(uuid.uuid4())\n",
    "\n",
    "  messages = \"\\n\".join([f\"{msg.type}: {msg.content}\" for msg in state[\"messages\"]])\n",
    "  prompt_template = ChatPromptTemplate([\n",
    "    (\"system\", f\"請根據使用者與聊天機器人間的對話紀錄，整理出30字內的用戶特徵，只回傳摘要後內容即可。\\n範例: 使用者是男生，喜歡上網看 Youtube\"),\n",
    "    (\"human\", \"**對話紀錄**\\n{messages}\"),\n",
    "  ])\n",
    "  memory_chain = prompt_template | chat_llm\n",
    "  response = memory_chain.invoke({\"messages\": messages})\n",
    "\n",
    "  store.put(user_id, memory_id, {\"memory\": response.content})\n",
    "\n",
    "\n",
    "# Models\n",
    "chat_llm = ChatOpenAI(\n",
    "    openai_api_key=\"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\",\n",
    "    openai_api_base=\"https://openrouter.ai/api/v1\",\n",
    "    model_name=\"mistralai/mistral-small-3.1-24b-instruct:free\",\n",
    "    temperature=0.1\n",
    ")\n",
    "\n",
    "# Define the graph\n",
    "builder = StateGraph(State)\n",
    "builder.add_node(\"chatbot\", chatbot)\n",
    "builder.add_node(\"write_memory\", write_memory)\n",
    "builder.add_edge(START, \"chatbot\")\n",
    "builder.add_edge(\"chatbot\", \"write_memory\")\n",
    "builder.add_edge(\"write_memory\", END)\n",
    "\n",
    "checkpointer = MemorySaver()\n",
    "memory_store = InMemoryStore()\n",
    "graph = builder.compile(checkpointer=checkpointer, store=memory_store)\n"
   ]
  },
  {
   "cell_type": "code",
   "execution_count": 3,
   "metadata": {
    "id": "KPPiEQpvHKl8"
   },
   "outputs": [
    {
     "data": {
      "image/png": "[encoded data removed]",
      "text/plain": [
       "<IPython.core.display.Image object>"
      ]
     },
     "metadata": {},
     "output_type": "display_data"
    }
   ],
   "source": [
    "# View\n",
    "from IPython.display import Image, display\n",
    "try:\n",
    "  display(Image(graph.get_graph().draw_mermaid_png()))\n",
    "except Exception as e:\n",
    "  print(e)\n",
    "  pass"
   ]
  },
  {
   "cell_type": "code",
   "execution_count": 4,
   "metadata": {
    "id": "zjdk4Y1tvXyb"
   },
   "outputs": [],
   "source": [
    "def stream_graph_updates(user_input: str, config: dict):\n",
    "    for event in graph.stream({\"messages\": [{\"role\": \"user\", \"content\": user_input}]}, config):\n",
    "        if \"chatbot\" in event:\n",
    "          for value in event.values():\n",
    "              print(\"Assistant:\", value[\"messages\"][-1].content)"
   ]
  },
  {
   "cell_type": "code",
   "execution_count": 24,
   "metadata": {
    "id": "GMyA_OCNBIEW"
   },
   "outputs": [],
   "source": [
    "# 使用者A的第一次對話\n",
    "config = {\"configurable\": {\"thread_id\": \"conversation_1\", \"user_id\": \"user_a\"}}"
   ]
  },
  {
   "cell_type": "code",
   "execution_count": 49,
   "metadata": {
    "id": "GTx7BfHTvVVa"
   },
   "outputs": [
    {
     "name": "stdout",
     "output_type": "stream",
     "text": [
      "Assistant: 開始學習Python可以從以下幾個步驟開始：\n",
      "\n",
      "1. **安裝Python**：從[Python官方網站](https://www.python.org/)下載並安裝最新版本的Python。\n",
      "\n",
      "2. **選擇編輯器**：使用像是VS Code、PyCharm或Jupyter Notebook等編輯器來撰寫和測試你的Python程式碼。\n",
      "\n",
      "3. **學習基礎語法**：從基本的語法開始，如變數、資料型態、控制結構（如if-else、for、while）和函數。\n",
      "\n",
      "4. **練習小項目**：從簡單的小項目開始，如計算器、猜數字遊戲或簡單的網頁爬蟲。\n",
      "\n",
      "5. **參考資源**：使用在線教程、書籍或視頻課程，如Codeacademy、Coursera或YouTube上的Python教學影片。\n",
      "\n",
      "6. **參與社群**：加入Python社群，如Stack Overflow、Reddit的r/learnpython或本地的Python使用者群組，與其他學習者和專家交流。\n",
      "\n",
      "7. **持續學習**：隨著時間的推移，逐步學習更高級的主題，如物件導向編程、資料庫操作、網頁開發等。\n",
      "\n",
      "希望這些建議能幫助你開始你的Python學習之旅！\n",
      "Assistant: 當然有！以下是一些非常受歡迎且適合初學者的Python教學YouTube頻道和影片：\n",
      "\n",
      "1. **Corey Schafer**\n",
      "   - **頻道連結**: [Corey Schafer](https://www.youtube.com/user/schafer5)\n",
      "   - **推薦影片**: \"Python Tutorial for Beginners\" 系列，這系列影片從基本概念開始，逐步深入，非常適合初學者。\n",
      "\n",
      "2. **Tech With Tim**\n",
      "   - **頻道連結**: [Tech With Tim](https://www.youtube.com/c/TechWithTim)\n",
      "   - **推薦影片**: \"Python Full Course for Beginners\"，這是一個完整的Python入門課程，涵蓋了從基本語法到進階主題的內容。\n",
      "\n",
      "3. **freeCodeCamp.org**\n",
      "   - **頻道連結**: [freeCodeCamp.org](https://www.youtube.com/c/freecodecamp)\n",
      "   - **推薦影片**: \"Python Tutorial - Full Course for Beginners\"，這是一個長達6小時的完整Python教學影片，適合想要系統學習的初學者。\n",
      "\n",
      "4. **Programming with Mosh**\n",
      "   - **頻道連結**: [Programming with Mosh](https://www.youtube.com/c/programmingwithmosh)\n",
      "   - **推薦影片**: \"Python Tutorial for Beginners - Full Course\"，這個影片由Mosh Hamedani主講，內容深入淺出，非常適合初學者。\n",
      "\n",
      "5. **The Net Ninja**\n",
      "   - **頻道連結**: [The Net Ninja](https://www.youtube.com/c/TheNetNinja)\n",
      "   - **推薦影片**: \"Python Tutorial for Beginners\" 系列，這系列影片涵蓋了Python的基本概念和進階主題，並且有很多實際應用的範例。\n",
      "\n",
      "這些頻道和影片都非常適合初學者，內容豐富且易於理解。希望你能從中找到適合自己的學習資源！\n",
      "Assistant: 使用Windows電腦完全適合學習Python！雖然有些開發者更喜歡使用Mac，但Windows同樣是一個非常強大且靈活的開發環境。以下是一些建議，幫助你在Windows上開始Python編程：\n",
      "\n",
      "1. **安裝Python**：\n",
      "   - 從[Python官方網站](https://www.python.org/)下載並安裝最新版本的Python。確保在安裝過程中勾選「Add Python to PATH」選項，這樣可以在命令提示字元中直接使用Python。\n",
      "\n",
      "2. **選擇編輯器**：\n",
      "   - **Visual Studio Code (VS Code)**：這是一個非常流行的編輯器，擁有豐富的擴充功能和強大的調試工具。你可以安裝Python擴充功能來提升開發體驗。\n",
      "   - **PyCharm**：這是一個專門為Python開發的集成開發環境（IDE），提供了許多強大的功能，如智能代碼補全、調試工具和版本控制整合。\n",
      "\n",
      "3. **安裝虛擬環境管理工具**：\n",
      "   - **virtualenv**：這是一個用於創建隔離Python環境的工具，可以避免不同項目的依賴衝突。\n",
      "   - **Anaconda**：這是一個強大的數據科學和機器學習開發環境，內建了許多常用的Python庫和工具。\n",
      "\n",
      "4. **學習資源**：\n",
      "   - 除了之前推薦的YouTube頻道，你還可以參考一些在線教程和書籍，如「Automate the Boring Stuff with Python」和「Python Crash Course」。\n",
      "   - 使用Windows的話，你也可以參考一些專門針對Windows用戶的教學資源，如Microsoft的Python教學網站。\n",
      "\n",
      "5. **參與社群**：\n",
      "   - 加入Python社群，如Stack Overflow、Reddit的r/learnpython或本地的Python使用者群組，與其他學習者和專家交流。\n",
      "\n",
      "6. **練習項目**：\n",
      "   - 從簡單的項目開始，如計算器、猜數字遊戲或簡單的網頁爬蟲，逐步提升你的編程技能。\n",
      "\n",
      "使用Windows電腦學習Python完全沒有問題，甚至有些工具和資源可能會比Mac更容易獲取和使用。希望這些建議能幫助你順利開始你的Python學習之旅！\n",
      "Goodbye!\n"
     ]
    }
   ],
   "source": [
    "# 開始對話 (可以輸入quit, exit, q，三選一停止對話)\n",
    "while True:\n",
    "  try:\n",
    "    user_input = input(\"User: \")\n",
    "    if user_input.lower() in [\"quit\", \"exit\", \"q\"]:\n",
    "      print(\"Goodbye!\")\n",
    "      break\n",
    "    stream_graph_updates(user_input, config)\n",
    "  except Exception as e:\n",
    "    print(e)\n",
    "    break"
   ]
  },
  {
   "cell_type": "code",
   "execution_count": null,
   "metadata": {},
   "outputs": [],
   "source": [
    "a = [\n",
    "    '我喜歡寫python 但不知道怎麼開始，簡短回答',\n",
    "    '有推薦的Youtube影片嗎？',\n",
    "    '我只有windows電腦，其他大學同學在學習的時候都是用mac，我是不是也要買？'\n",
    "]"
   ]
  },
  {
   "cell_type": "code",
   "execution_count": 50,
   "metadata": {
    "id": "hnwxAcAqvgzE"
   },
   "outputs": [],
   "source": [
    "# 使用者A的第二次對話\n",
    "config = {\"configurable\": {\"thread_id\": \"conversation_2\", \"user_id\": \"user_a\"}}"
   ]
  },
  {
   "cell_type": "code",
   "execution_count": 51,
   "metadata": {
    "id": "qOyjZJ_HvmIk"
   },
   "outputs": [
    {
     "name": "stdout",
     "output_type": "stream",
     "text": [
      "Assistant: 作為一名Python初學者，你有很多選擇可以開始寫程式。以下是一些適合初學者的Python程式範例，這些範例可以幫助你逐步提升編程技能：\n",
      "\n",
      "1. **簡單的計算器**：\n",
      "   - 這個程式可以執行基本的算術運算，如加法、減法、乘法和除法。這將幫助你熟悉基本的輸入輸出和控制結構。\n",
      "\n",
      "2. **猜數字遊戲**：\n",
      "   - 這個程式會隨機生成一個數字，讓使用者猜測。根據使用者的猜測，程式會給出提示，告訴使用者猜的數字是太大還是太小。這將幫助你了解條件判斷和迴圈。\n",
      "\n",
      "3. **待辦事項清單**：\n",
      "   - 這個程式可以讓使用者添加、刪除和查看待辦事項。這將幫助你了解列表和字典的使用。\n",
      "\n",
      "4. **簡單的網頁爬蟲**：\n",
      "   - 使用`requests`和`BeautifulSoup`庫，你可以撰寫一個簡單的網頁爬蟲，從網頁上抓取資料。這將幫助你了解如何與網路資源互動。\n",
      "\n",
      "5. **簡單的資料分析**：\n",
      "   - 使用`pandas`庫，你可以撰寫一個簡單的資料分析程式，讀取CSV檔案並進行基本的資料處理和分析。這將幫助你了解資料處理和分析的基本概念。\n",
      "\n",
      "6. **簡單的圖形化介面（GUI）**：\n",
      "   - 使用`tkinter`庫，你可以撰寫一個簡單的圖形化介面程式。這將幫助你了解如何設計和實現圖形化介面。\n",
      "\n",
      "7. **簡單的遊戲**：\n",
      "   - 例如，撰寫一個簡單的蛇遊戲或跳躍遊戲。這將幫助你了解遊戲開發的基本概念，如物件導向編程和事件處理。\n",
      "\n",
      "這些範例都可以在YouTube上找到相關的教學影片，幫助你更好地理解和實現這些程式。你也可以參考一些Python的在線教程和書籍，進一步深入學習。\n",
      "Assistant: 根據你提供的資訊，以下是你的偏好和特徵：\n",
      "\n",
      "1. **喜歡寫程式**：\n",
      "   - 你對編寫程式有濃厚的興趣，這是你學習Python的主要動力。\n",
      "\n",
      "2. **學習Python**：\n",
      "   - 你正在學習Python，這表明你對這門程式語言有興趣，並希望通過它來實現你的編程目標。\n",
      "\n",
      "3. **喜歡網路資源**：\n",
      "   - 你喜歡使用網路資源來學習和獲取資訊，這表明你善於利用互聯網來提升自己的技能。\n",
      "\n",
      "4. **使用YouTube學習**：\n",
      "   - 你喜歡通過YouTube來學習Python，這表明你更傾向於視覺和聽覺的學習方式。\n",
      "\n",
      "5. **使用Windows電腦**：\n",
      "   - 你使用Windows作為你的主要作業系統，這意味著你可能會更多地使用與Windows相關的開發工具和資源。\n",
      "\n",
      "6. **Python初學者**：\n",
      "   - 你是Python的初學者，這表明你正處於學習的初期階段，需要更多的基礎知識和實踐經驗。\n",
      "\n",
      "7. **對計算器、遊戲、網頁爬蟲等感興趣**：\n",
      "   - 你對這些領域有興趣，這意味著你可以通過開發這些類型的程式來提升你的編程技能，並且這些項目也能夠讓你保持學習的動力。\n",
      "\n",
      "總結來說，你是一名對Python編程充滿熱情的初學者，喜歡通過網路資源和YouTube來學習，並且對計算器、遊戲和網頁爬蟲等領域有濃厚的興趣。這些特徵和偏好將幫助你在學習Python的過程中找到適合自己的學習方法和項目。\n",
      "Goodbye!\n"
     ]
    }
   ],
   "source": [
    "# 開始對話 (可以輸入quit, exit, q，三選一停止對話)\n",
    "while True:\n",
    "  try:\n",
    "    user_input = input(\"User: \")\n",
    "    if user_input.lower() in [\"quit\", \"exit\", \"q\"]:\n",
    "      print(\"Goodbye!\")\n",
    "      break\n",
    "    stream_graph_updates(user_input, config)\n",
    "  except Exception as e:\n",
    "    print(e)\n",
    "    break"
   ]
  },
  {
   "cell_type": "markdown",
   "metadata": {
    "id": "2qIEWoYKwExU"
   },
   "source": [
    "## (2) 進階版\n",
    "\n",
    "👨‍🎓 [進階版]\n",
    "- chatbot node: 可以決定使用者的問題是否需要從長期記憶中取得資訊，以及需要取得什麼資訊\n",
    "- write_memory node: 可以整理成特定格式 (例如：使用with_structured_output，相關概念可以延伸到R3 tool calling內容)。例如：\n",
    "```\n",
    "user_profile = {\n",
    "  \"first_name\": \"XXXX\",\n",
    "  \"last_name\": \"OOO\",\n",
    "  \"preferred_lang\": [\"en\", \"zh-tw\"]\n",
    "}\n",
    "```\n",
    "- 也可以自行將graph結構調整自己喜歡的(增刪不同node, conditional router, ...)"
   ]
  },
  {
   "cell_type": "code",
   "execution_count": null,
   "metadata": {
    "id": "5MLcnXZAwHeE"
   },
   "outputs": [],
   "source": [
    "# 💻code here, enjoy the ride 😎\n"
   ]
  },
  {
   "cell_type": "code",
   "execution_count": null,
   "metadata": {
    "id": "jyJZA50xwZBf"
   },
   "outputs": [],
   "source": []
  }
 ],
 "metadata": {
  "accelerator": "GPU",
  "colab": {
   "authorship_tag": "ABX9TyNYINlo1nsS2lI9wLywaGAU",
   "gpuType": "T4",
   "provenance": []
  },
  "kernelspec": {
   "display_name": "testenv",
   "language": "python",
   "name": "python3"
  },
  "language_info": {
   "codemirror_mode": {
    "name": "ipython",
    "version": 3
   },
   "file_extension": ".py",
   "mimetype": "text/x-python",
   "name": "python",
   "nbconvert_exporter": "python",
   "pygments_lexer": "ipython3",
   "version": "3.10.11"
  }
 },
 "nbformat": 4,
 "nbformat_minor": 0
}

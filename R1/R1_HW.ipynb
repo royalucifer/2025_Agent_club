{
  "cells": [
    {
      "cell_type": "markdown",
      "metadata": {
        "id": "XOPXxjexDMDZ"
      },
      "source": [
        "# baseline"
      ]
    },
    {
      "cell_type": "markdown",
      "metadata": {
        "id": "3hvn98KdEE9_"
      },
      "source": [
        "將`關鍵字`比對換成`向量相似度`比對。"
      ]
    },
    {
      "cell_type": "markdown",
      "metadata": {
        "id": "pV4-rfIDDz7D"
      },
      "source": [
        "> 請將目前使用關鍵字比對的 route_by_query，改為使用向量相似度進行分類，並設一個合理的相似度門檻，根據檢索結果的分數判斷是否走 RAG 流程。  \n",
        "例如用向量相似度及自訂 threshold 決定要不要分到 retriever。"
      ]
    },
    {
      "cell_type": "markdown",
      "metadata": {
        "id": "W2jMeAOuJ2OM"
      },
      "source": [
        "> Hint：similarity_search_with_score(...)  \n",
        "可參考去年的讀書會 R4：向量資料庫的基本操作"
      ]
    },
    {
      "cell_type": "code",
      "execution_count": 1,
      "metadata": {
        "id": "uGc7o1k0LvdY"
      },
      "outputs": [],
      "source": [
        "from typing import Annotated, TypedDict, List\n",
        "\n",
        "from langchain_core.documents import Document\n",
        "from langchain_core.messages import HumanMessage, AIMessage\n",
        "from langchain_chroma import Chroma\n",
        "from langchain_huggingface import HuggingFaceEmbeddings\n",
        "from langchain_text_splitters import RecursiveCharacterTextSplitter\n",
        "from langchain_openai import ChatOpenAI\n",
        "from langgraph.graph import StateGraph, END, START\n",
        "from langgraph.graph.message import add_messages\n",
        "\n",
        "LLM_MODEL_NAME =  \"Qwen/Qwen3-4B\"\n",
        "EMBED_MODEL_NAME = \"BAAI/bge-m3\"\n",
        "INFERENCE_TOP_P = 0.95\n",
        "INFERENCE_TEMPERATURE = 0.0001\n",
        "docs_text = \"\"\"\n",
        "火影代數\t姓名\t師傅\t徒弟\n",
        "初代\t千手柱間\t無明確記載\t猿飛日斬、水戶門炎、轉寢小春\n",
        "二代\t千手扉間\t千手柱間（兄長）\t猿飛日斬、志村團藏、宇智波鏡等\n",
        "三代\t猿飛日斬\t千手柱間、千手扉間\t自來也、大蛇丸、千手綱手（傳說三忍）\n",
        "四代\t波風湊\t自來也\t旗木卡卡西、宇智波帶土、野原琳\n",
        "五代\t千手綱手\t猿飛日斬\t春野櫻、志乃等（主要為春野櫻）\n",
        "六代\t旗木卡卡西\t波風湊\t漩渦鳴人、宇智波佐助、春野櫻（第七班）\n",
        "七代\t漩渦鳴人\t自來也、旗木卡卡西\t木葉丸等（主要為木葉丸）\n",
        "\"\"\""
      ]
    },
    {
      "cell_type": "code",
      "execution_count": 2,
      "metadata": {},
      "outputs": [
        {
          "name": "stderr",
          "output_type": "stream",
          "text": [
            "/Users/roysung/miniforge3/envs/testenv/lib/python3.10/site-packages/tqdm/auto.py:21: TqdmWarning: IProgress not found. Please update jupyter and ipywidgets. See https://ipywidgets.readthedocs.io/en/stable/user_install.html\n",
            "  from .autonotebook import tqdm as notebook_tqdm\n"
          ]
        }
      ],
      "source": [
        "# Models\n",
        "chat_llm = ChatOpenAI(\n",
        "    openai_api_key=\"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\",\n",
        "    openai_api_base=\"https://openrouter.ai/api/v1\",\n",
        "    model_name=\"mistralai/mistral-small-3.1-24b-instruct:free\",\n",
        "    temperature=0.1\n",
        ")\n",
        "\n",
        "embeddings = HuggingFaceEmbeddings(\n",
        "    model_name=\"BAAI/bge-m3\",\n",
        "    model_kwargs={\"device\": \"mps\"},\n",
        "    encode_kwargs={\"normalize_embeddings\": True})\n",
        "\n",
        "\n",
        "# Retriever\n",
        "spliter = RecursiveCharacterTextSplitter(\n",
        "    chunk_size=20,\n",
        "    chunk_overlap=0,\n",
        "    separators=[\"\\n\\n\", \"\\n\"],\n",
        ")\n",
        "docs = spliter.split_text(docs_text)\n",
        "docs = spliter.create_documents(docs)\n",
        "\n",
        "vectorstore = Chroma.from_documents(docs, embeddings, collection_name=\"naruto\")\n",
        "retriever = vectorstore.as_retriever(\n",
        "    search_type=\"similarity_score_threshold\",\n",
        "    search_kwargs=dict(\n",
        "        score_threshold=0.2) )"
      ]
    },
    {
      "cell_type": "code",
      "execution_count": null,
      "metadata": {},
      "outputs": [],
      "source": [
        "# 定義 LangGraph 的 State 結構\n",
        "class RAGState(TypedDict):\n",
        "    query: str\n",
        "    docs: List[Document]\n",
        "    answer: str\n",
        "\n",
        "\n",
        "def retrieve_node(state: RAGState) -> RAGState:\n",
        "    query = state[\"query\"]\n",
        "    docs = retriever.invoke(query)\n",
        "    return {\"docs\": docs}\n",
        "\n",
        "\n",
        "def generate_node(state: RAGState) -> RAGState:\n",
        "    query, docs = state[\"query\"], state[\"docs\"]\n",
        "    context = \"\\n\".join([d.page_content for d in docs])\n",
        "    prompt = (\n",
        "        f\"你是一個知識型助手，請根據以下內容回答問題：\\n\\n\"\n",
        "        f\"內容：{context}\\n\\n\"\n",
        "        f\"問題：{query}\\n\\n回答：\"\n",
        "    )\n",
        "    output = chat_llm.invoke(prompt)\n",
        "    return {\"answer\": output.content}\n",
        "\n",
        "\n",
        "def direct_generate_node(state: RAGState) -> RAGState:\n",
        "    query = state[\"query\"]\n",
        "    prompt = f\"請回答以下問題：{query}\\n\\n回答：\"\n",
        "    output = chat_llm.invoke(prompt).content\n",
        "    return {\"answer\": output}\n",
        "\n",
        "\n",
        "# 定義 Route Node（決定走哪條路）\n",
        "def route_by_query(state):\n",
        "    query = state[\"query\"]\n",
        "    docs = retriever.invoke(query)\n",
        "\n",
        "    choice = \"general\"\n",
        "    if docs:\n",
        "        choice = \"naruto\"\n",
        "    print(f\"跑到 → {choice}\")\n",
        "    return choice\n",
        "\n",
        "# 建立 LangGraph 流程圖\n",
        "graph_builder = StateGraph(RAGState)\n",
        "graph_builder.add_node(\"retriever\", retrieve_node)\n",
        "graph_builder.add_node(\"generator\", generate_node)\n",
        "graph_builder.add_node(\"direct_generator\", direct_generate_node)\n",
        "\n",
        "# 設定條件分流\n",
        "graph_builder.add_conditional_edges(\n",
        "    source=START,\n",
        "    path=route_by_query,\n",
        "    path_map={\n",
        "        \"naruto\": \"retriever\",\n",
        "        \"general\": \"direct_generator\",\n",
        "    }\n",
        ")\n",
        "\n",
        "# 接下來的正常連接\n",
        "graph_builder.add_edge(\"retriever\", \"generator\")\n",
        "graph_builder.add_edge(\"generator\", END)\n",
        "graph_builder.add_edge(\"direct_generator\", END)\n",
        "\n",
        "# 編譯 Graph\n",
        "graph = graph_builder.compile()"
      ]
    },
    {
      "cell_type": "code",
      "execution_count": 7,
      "metadata": {},
      "outputs": [
        {
          "name": "stdout",
          "output_type": "stream",
          "text": [
            "開始對話吧（輸入 q 結束）\n",
            "跑到 → naruto\n",
            "回答： 根據你提供的內容，並沒有明確提到第四代火影的姓名。如果你有更多的資訊或需要進一步的解釋，請提供更多的背景資料或詳細內容。在《火影忍者》的世界觀中，第四代火影是波風水門（Minato Namikaze），他也是漩渦鳴人（Naruto Uzumaki）的父親。\n",
            "============================================================ \n",
            "\n"
          ]
        },
        {
          "name": "stderr",
          "output_type": "stream",
          "text": [
            "No relevant docs were retrieved using the relevance score threshold 0.3\n"
          ]
        },
        {
          "name": "stdout",
          "output_type": "stream",
          "text": [
            "跑到 → general\n",
            "回答： 相對論是由阿爾伯特·愛因斯坦（Albert Einstein）發明的。愛因斯坦在1905年提出了狹義相對論（Special Theory of Relativity），並在1915年提出了廣義相對論（General Theory of Relativity）。這些理論對於現代物理學有著深遠的影響，改變了我們對時間、空間和引力的理解。\n",
            "============================================================ \n",
            "\n",
            "掰啦！\n"
          ]
        }
      ],
      "source": [
        "print(\"開始對話吧（輸入 q 結束）\")\n",
        "\n",
        "while True:\n",
        "    user_input = input(\"使用者: \")\n",
        "    if user_input.strip().lower() in [\"q\", \"quit\", \"exit\"]:\n",
        "        print(\"掰啦！\")\n",
        "        break\n",
        "\n",
        "    init_state: RAGState = {\"query\": user_input}\n",
        "\n",
        "    result = graph.invoke(init_state)\n",
        "    raw_output = result[\"answer\"]\n",
        "\n",
        "    answer_text = raw_output.split(\"回答：\")[-1].strip()\n",
        "    print(\"回答：\", answer_text)\n",
        "    print(\"===\" * 20, \"\\n\")"
      ]
    },
    {
      "cell_type": "markdown",
      "metadata": {
        "id": "v8blDsDnDpbO"
      },
      "source": [
        "# advance"
      ]
    },
    {
      "cell_type": "markdown",
      "metadata": {
        "id": "ofkLZjzHENNT"
      },
      "source": [
        "改成能支援多輪問答（Multi-turn RAG），並能根據前面的query判斷問題。"
      ]
    },
    {
      "cell_type": "markdown",
      "metadata": {
        "id": "r2VXz7FxEONI"
      },
      "source": [
        "> 請將 RAGState 加入 history 欄位，並在生成回答時，將歷史對話與當前問題一起組成 prompt。"
      ]
    },
    {
      "cell_type": "markdown",
      "metadata": {
        "id": "6eSvoKFiKqP5"
      },
      "source": [
        "> Hint：\n",
        "```\n",
        "class MultiTurnRAGState(TypedDict):  \n",
        "    history: List[str]  \n",
        "    query: str  \n",
        "    docs: List[Document]  \n",
        "    answer: str\n",
        "```\n",
        "\n"
      ]
    },
    {
      "cell_type": "code",
      "execution_count": null,
      "metadata": {
        "id": "A4QWyJxhP5Ir"
      },
      "outputs": [],
      "source": [
        "# 定義 LangGraph 的 State 結構\n",
        "class MultiTurnRAGState(TypedDict):  \n",
        "    history: Annotated[list, add_messages]\n",
        "    query: str\n",
        "    docs: List[Document]\n",
        "    answer: str\n",
        "\n",
        "\n",
        "def retrieve_node(state: MultiTurnRAGState) -> MultiTurnRAGState:\n",
        "    query = \"\"\n",
        "    for msg in state[\"history\"]:\n",
        "        if isinstance(msg, HumanMessage):\n",
        "            query += (msg.content + \" \")\n",
        "    query += state[\"query\"]\n",
        "    docs = retriever.invoke(query)\n",
        "    return {\"docs\": docs}\n",
        "\n",
        "\n",
        "def generate_node(state: MultiTurnRAGState) -> MultiTurnRAGState:\n",
        "    query = state[\"query\"]\n",
        "    docs = state[\"docs\"]\n",
        "\n",
        "    context = \"\\n\".join([d.page_content for d in docs])\n",
        "    prompt = (\n",
        "        f\"你是一個知識型助手，請根據以下內容回答問題：\\n\\n\"\n",
        "        f\"內容：{context}\\n\\n\"\n",
        "        f\"問題：{query}\\n\\n回答：\"\n",
        "    )\n",
        "    output = chat_llm.invoke(prompt)\n",
        "    return {\"history\": [query, output], \"answer\": output.content}\n",
        "\n",
        "\n",
        "def direct_generate_node(state: MultiTurnRAGState) -> MultiTurnRAGState:\n",
        "    query = state[\"query\"]\n",
        "    prompt = f\"請回答以下問題：{query}\\n\\n回答：\"\n",
        "    output = chat_llm.invoke(prompt).content\n",
        "    return {\"answer\": output}\n",
        "\n",
        "\n",
        "# 定義 Route Node（決定走哪條路）\n",
        "def route_by_query(state):\n",
        "    query = state[\"query\"]\n",
        "    docs = retriever.invoke(query)\n",
        "\n",
        "    choice = \"general\"\n",
        "    if docs:\n",
        "        choice = \"naruto\"\n",
        "    print(f\"跑到 → {choice}\")\n",
        "    return choice\n",
        "\n",
        "# 建立 LangGraph 流程圖\n",
        "graph_builder = StateGraph(MultiTurnRAGState)\n",
        "graph_builder.add_node(\"retriever\", retrieve_node)\n",
        "graph_builder.add_node(\"generator\", generate_node)\n",
        "graph_builder.add_node(\"direct_generator\", direct_generate_node)\n",
        "\n",
        "# 設定條件分流\n",
        "graph_builder.add_conditional_edges(\n",
        "    source=START,\n",
        "    path=route_by_query,\n",
        "    path_map={\n",
        "        \"naruto\": \"retriever\",\n",
        "        \"general\": \"direct_generator\",\n",
        "    }\n",
        ")\n",
        "\n",
        "# 接下來的正常連接\n",
        "graph_builder.add_edge(\"retriever\", \"generator\")\n",
        "graph_builder.add_edge(\"generator\", END)\n",
        "graph_builder.add_edge(\"direct_generator\", END)\n",
        "\n",
        "# 編譯 Graph\n",
        "graph = graph_builder.compile()"
      ]
    },
    {
      "cell_type": "code",
      "execution_count": 4,
      "metadata": {},
      "outputs": [
        {
          "name": "stdout",
          "output_type": "stream",
          "text": [
            "開始對話吧（輸入 q 結束）\n",
            "跑到 → naruto\n",
            "第四代火影是誰?\n",
            "[Document(id='535d970a-e830-43bd-a7e9-d930cf3f36ce', metadata={}, page_content='\\n四代\\t波風湊\\t自來也\\t旗木卡卡西、宇智波帶土、野原琳'), Document(id='bb9aba71-14da-4d68-9c32-bb591a984f5f', metadata={}, page_content='火影代數\\t姓名\\t師傅\\t徒弟'), Document(id='c0379fb1-4a32-4566-922c-813fc92ebf88', metadata={}, page_content='\\n七代\\t漩渦鳴人\\t自來也、旗木卡卡西\\t木葉丸等（主要為木葉丸）')]\n",
            "[]\n",
            "AI 助理: 第四代火影是波風湊。\n",
            "==================================================================================================================================================================================== \n",
            "\n",
            "跑到 → naruto\n",
            "第四代火影是誰? 他的師父是誰?\n",
            "[Document(id='535d970a-e830-43bd-a7e9-d930cf3f36ce', metadata={}, page_content='\\n四代\\t波風湊\\t自來也\\t旗木卡卡西、宇智波帶土、野原琳'), Document(id='bb9aba71-14da-4d68-9c32-bb591a984f5f', metadata={}, page_content='火影代數\\t姓名\\t師傅\\t徒弟')]\n",
            "[HumanMessage(content='第四代火影是誰?', additional_kwargs={}, response_metadata={}, id='3eb89739-d432-453d-ac64-0a6c3343b8e1'), AIMessage(content='第四代火影是波風湊。', additional_kwargs={'refusal': None}, response_metadata={'token_usage': {'completion_tokens': 11, 'prompt_tokens': 117, 'total_tokens': 128, 'completion_tokens_details': None, 'prompt_tokens_details': None}, 'model_name': 'mistralai/mistral-small-3.1-24b-instruct:free', 'system_fingerprint': None, 'id': 'gen-1747760834-iZx1kSwMNgwSIRKyLB60', 'service_tier': None, 'finish_reason': 'stop', 'logprobs': None}, id='run--dd0536fe-3c7a-4de4-917b-6b902990df88-0', usage_metadata={'input_tokens': 117, 'output_tokens': 11, 'total_tokens': 128, 'input_token_details': {}, 'output_token_details': {}})]\n",
            "AI 助理: 根據提供的內容，四代波風湊的師父並沒有明確列出。內容中只列出了火影代數、姓名、師傅和徒弟，但四代波風湊的師父欄位是空的。因此，無法確定四代波風湊的師父是誰。\n",
            "==================================================================================================================================================================================== \n",
            "\n"
          ]
        },
        {
          "name": "stderr",
          "output_type": "stream",
          "text": [
            "/Users/roysung/miniforge3/envs/testenv/lib/python3.10/site-packages/langchain_core/vectorstores/base.py:1082: UserWarning: Relevance scores must be between 0 and 1, got [(Document(id='bb9aba71-14da-4d68-9c32-bb591a984f5f', metadata={}, page_content='火影代數\\t姓名\\t師傅\\t徒弟'), 0.3279693434307649), (Document(id='9295b784-c9ef-4aee-84e6-e9c75c55c5cd', metadata={}, page_content='\\n六代\\t旗木卡卡西\\t波風湊\\t漩渦鳴人、宇智波佐助、春野櫻（第七班）'), 0.03837126664186219), (Document(id='f72f8bf3-528f-4383-9d80-a206e97e0148', metadata={}, page_content='\\n三代\\t猿飛日斬\\t千手柱間、千手扉間\\t自來也、大蛇丸、千手綱手（傳說三忍）'), 0.0028069129313996743), (Document(id='a1913900-84c2-4870-9aea-202ec8d34a41', metadata={}, page_content='\\n二代\\t千手扉間\\t千手柱間（兄長）\\t猿飛日斬、志村團藏、宇智波鏡等'), -0.0022564408613050535)]\n",
            "  self.vectorstore.similarity_search_with_relevance_scores(\n"
          ]
        },
        {
          "name": "stdout",
          "output_type": "stream",
          "text": [
            "跑到 → naruto\n",
            "第四代火影是誰? 他的師父是誰? 他的徒弟有哪些人?\n",
            "[Document(id='bb9aba71-14da-4d68-9c32-bb591a984f5f', metadata={}, page_content='火影代數\\t姓名\\t師傅\\t徒弟'), Document(id='535d970a-e830-43bd-a7e9-d930cf3f36ce', metadata={}, page_content='\\n四代\\t波風湊\\t自來也\\t旗木卡卡西、宇智波帶土、野原琳')]\n",
            "[HumanMessage(content='第四代火影是誰?', additional_kwargs={}, response_metadata={}, id='3eb89739-d432-453d-ac64-0a6c3343b8e1'), AIMessage(content='第四代火影是波風湊。', additional_kwargs={'refusal': None}, response_metadata={'token_usage': {'completion_tokens': 11, 'prompt_tokens': 117, 'total_tokens': 128, 'completion_tokens_details': None, 'prompt_tokens_details': None}, 'model_name': 'mistralai/mistral-small-3.1-24b-instruct:free', 'system_fingerprint': None, 'id': 'gen-1747760834-iZx1kSwMNgwSIRKyLB60', 'service_tier': None, 'finish_reason': 'stop', 'logprobs': None}, id='run--dd0536fe-3c7a-4de4-917b-6b902990df88-0', usage_metadata={'input_tokens': 117, 'output_tokens': 11, 'total_tokens': 128, 'input_token_details': {}, 'output_token_details': {}}), HumanMessage(content='他的師父是誰?', additional_kwargs={}, response_metadata={}, id='0c55113d-fd37-462f-89c3-3ce68bd5fa0f'), AIMessage(content='根據提供的內容，四代波風湊的師父並沒有明確列出。內容中只列出了火影代數、姓名、師傅和徒弟，但四代波風湊的師父欄位是空的。因此，無法確定四代波風湊的師父是誰。', additional_kwargs={'refusal': None}, response_metadata={'token_usage': {'completion_tokens': 82, 'prompt_tokens': 81, 'total_tokens': 163, 'completion_tokens_details': None, 'prompt_tokens_details': None}, 'model_name': 'mistralai/mistral-small-3.1-24b-instruct:free', 'system_fingerprint': None, 'id': 'gen-1747760842-HuKZExjs3apB391xnD3r', 'service_tier': None, 'finish_reason': 'stop', 'logprobs': None}, id='run--bb131bb4-553f-46db-bc91-4d40297dbcc0-0', usage_metadata={'input_tokens': 81, 'output_tokens': 82, 'total_tokens': 163, 'input_token_details': {}, 'output_token_details': {}})]\n",
            "AI 助理: 波風湊的徒弟有旗木卡卡西、宇智波帶土和野原琳。\n",
            "==================================================================================================================================================================================== \n",
            "\n",
            "掰啦！\n"
          ]
        }
      ],
      "source": [
        "global_history: List[str] = []\n",
        "\n",
        "print(\"開始對話吧（輸入 q 結束）\")\n",
        "while True:\n",
        "    user_input = input(\"使用者: \")\n",
        "    if user_input.strip().lower() in [\"q\", \"quit\", \"exit\"]:\n",
        "        print(\"掰啦！\")\n",
        "        break\n",
        "\n",
        "    state = {\"history\": global_history, \"query\": user_input}\n",
        "    result = graph.invoke(state)\n",
        "\n",
        "    answer = result[\"answer\"].split(\"回答：\")[-1].strip()\n",
        "    print(\"AI 助理:\", answer)\n",
        "    print(\"===\" * 60, \"\\n\")\n",
        "\n",
        "    global_history = result[\"history\"]"
      ]
    },
    {
      "cell_type": "code",
      "execution_count": null,
      "metadata": {
        "colab": {
          "base_uri": "https://localhost:8080/"
        },
        "id": "b-Jrna_evTCC",
        "outputId": "fe0bc544-ba23-4b77-eca8-ae38c698bd83"
      },
      "outputs": [
        {
          "name": "stdout",
          "output_type": "stream",
          "text": [
            "開始對話吧（輸入 q 結束）\n",
            "使用者: 第四代火影是誰?\n",
            "route: cosine_sim = 0.8092\n",
            "跑到 → retriever\n",
            "retrieve combined query: '第四代火影是誰?'\n",
            "AI 助理: 第四代火影是波風湊。\n",
            "==================================================================================================================================================================================== \n",
            "\n",
            "使用者: 他的師父是誰?\n",
            "route: cosine_sim = 0.5529\n",
            "跑到 → retriever\n",
            "retrieve combined query: '第四代火影是誰?\\n他的師父是誰?'\n",
            "AI 助理: 第四代火影的師父是自來也。\n",
            "==================================================================================================================================================================================== \n",
            "\n",
            "使用者: 他的徒弟有哪些人?\n",
            "route: cosine_sim = 0.6542\n",
            "跑到 → retriever\n",
            "retrieve combined query: '第四代火影是誰?\\n他的師父是誰?\\n他的徒弟有哪些人?'\n",
            "AI 助理: 他的徒弟有以下人：旗木卡卡西、宇智波帶土、野原琳。\n",
            "==================================================================================================================================================================================== \n",
            "\n",
            "使用者: 相對論是他發明的嗎?\n",
            "route: cosine_sim = 0.1118\n",
            "跑到 → general\n",
            "AI 助理: 相對論不是第四代火影所發明的。相對論是物理學家阿爾伯特·愛因斯坦在1905年提出的，他提出了廣義相對論，後人又提出狹義相對論。相對論主要是研究加速度和重力的關係，以及加速度和時間、空間的關係。\n",
            "==================================================================================================================================================================================== \n",
            "\n",
            "使用者: q\n",
            "掰啦！\n"
          ]
        }
      ],
      "source": [
        "global_history: List[str] = []\n",
        "\n",
        "print(\"開始對話吧（輸入 q 結束）\")\n",
        "while True:\n",
        "    user_input = input(\"使用者: \")\n",
        "    if user_input.strip().lower() in [\"q\", \"quit\", \"exit\"]:\n",
        "        print(\"掰啦！\")\n",
        "        break\n",
        "\n",
        "    state = {\"history\": global_history, \"query\": user_input}\n",
        "    result = graph.invoke(state)\n",
        "\n",
        "    answer = result[\"answer\"].split(\"回答：\")[-1].strip()\n",
        "    print(\"AI 助理:\", answer)\n",
        "    print(\"===\" * 60, \"\\n\")\n",
        "\n",
        "    global_history = result[\"history\"]"
      ]
    }
  ],
  "metadata": {
    "colab": {
      "provenance": []
    },
    "kernelspec": {
      "display_name": "testenv",
      "language": "python",
      "name": "python3"
    },
    "language_info": {
      "codemirror_mode": {
        "name": "ipython",
        "version": 3
      },
      "file_extension": ".py",
      "mimetype": "text/x-python",
      "name": "python",
      "nbconvert_exporter": "python",
      "pygments_lexer": "ipython3",
      "version": "3.10.11"
    }
  },
  "nbformat": 4,
  "nbformat_minor": 0
}

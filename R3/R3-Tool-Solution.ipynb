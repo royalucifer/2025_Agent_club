{
  "nbformat": 4,
  "nbformat_minor": 0,
  "metadata": {
    "colab": {
      "provenance": []
    },
    "kernelspec": {
      "name": "python3",
      "display_name": "Python 3"
    },
    "language_info": {
      "name": "python"
    }
  },
  "cells": [
    {
      "cell_type": "markdown",
      "source": [
        "# R3-Tool_HW\n",
        "\n"
      ],
      "metadata": {
        "id": "_dRuBpntVvcE"
      }
    },
    {
      "cell_type": "markdown",
      "source": [
        "## 非程式題\n",
        "\n",
        "請前往 https://mcp.so/ ，選擇一個 MCP Server，並回答以下問題：\n",
        "\n",
        "1. 該 MCP Server 的名稱為何？\n",
        "2. 它提供了哪些主要功能？\n",
        "3. 你認為這些功能可以應用於哪些實際場景或解決哪些問題？"
      ],
      "metadata": {
        "id": "nvLW8wVj3Ocb"
      }
    },
    {
      "cell_type": "markdown",
      "source": [
        "## 程式題\n",
        "### baseline\n",
        "\n",
        "使用 LangChain 的 ReAct Agent，註冊三個工具（查天氣、查時間、查匯率），讓 Agent 根據輸入自動選擇正確的工具來回答問題。"
      ],
      "metadata": {
        "id": "wk_XJXdp3sI_"
      }
    },
    {
      "cell_type": "code",
      "source": [
        "!pip install openai langchain_openai langchain langchain-community chromadb langgraph"
      ],
      "metadata": {
        "id": "brSmrXeXknuL"
      },
      "execution_count": null,
      "outputs": []
    },
    {
      "cell_type": "code",
      "source": [
        "from google.colab import userdata\n",
        "import os\n",
        "# ✅ 設定 API 金鑰\n",
        "os.environ[\"OPENAI_API_KEY\"] = userdata.get('OPENAI_API_KEY')\n",
        "MODEL = \"gpt-4o-mini\""
      ],
      "metadata": {
        "id": "b4QjJyi1NweX"
      },
      "execution_count": 19,
      "outputs": []
    },
    {
      "cell_type": "code",
      "source": [
        "from langchain.chat_models import ChatOpenAI\n",
        "from langchain.agents import initialize_agent, AgentType\n",
        "from langchain.tools import tool\n",
        "import datetime\n",
        "\n",
        "# ========== 自訂工具定義 ==========\n",
        "\n",
        "# 使用 @tool 裝飾器定義可被 Agent 呼叫的工具\n",
        "@tool\n",
        "def get_weather(location: str) -> str:\n",
        "  \"\"\"查詢天氣\"\"\"\n",
        "  return f\"{location} 今天天氣晴，溫度約 25°C。\"\n",
        "\n",
        "@tool\n",
        "def get_time(location: str) -> str:\n",
        "  \"\"\"查詢時間\"\"\"\n",
        "  return f\"{location} 現在時間是下午 3:00。\"\n",
        "\n",
        "@tool\n",
        "def get_exchange_rate(currency: str) -> str:\n",
        "  \"\"\"查詢其他幣值對台幣的匯率\"\"\"\n",
        "  if currency.upper() == \"USD\":\n",
        "      return \"1 USD = 31.25 TWD\"\n",
        "  elif currency.upper() == \"JPY\":\n",
        "      return \"1 JPY = 0.22 TWD\"\n",
        "  else:\n",
        "      return f\"{currency.upper()} 匯率資料暫無法提供\"\n",
        "\n",
        "llm = ChatOpenAI(model=MODEL)\n",
        "\n",
        "system_prompt = \"請使用繁體中文回答所有問題。\"\n",
        "\n",
        "agent = initialize_agent(\n",
        "    tools=[get_weather, get_time, get_exchange_rate],  # 將所有工具傳入\n",
        "    llm=llm,\n",
        "    agent=AgentType.OPENAI_FUNCTIONS,\n",
        "    agent_kwargs={\"system_message\": system_prompt},  # 傳入 system prompt\n",
        "    verbose=True  # 開啟詳細日誌\n",
        ")"
      ],
      "metadata": {
        "id": "AE_CsaDGNyH1"
      },
      "execution_count": 22,
      "outputs": []
    },
    {
      "cell_type": "code",
      "source": [
        "# ========== 測試 Agent ==========\n",
        "questions = [\n",
        "    \"請問現在東京幾點？\",\n",
        "    \"今天台北天氣如何？\",\n",
        "    \"請告訴我日圓對台幣的匯率\",\n",
        "]\n",
        "\n",
        "for idx, question in enumerate(questions, start=1):\n",
        "    print(f\"\\n📌 第 {idx} 題：{question}\")\n",
        "    result = agent.run(question)\n",
        "    print(\"🤖 回答：\", result)\n"
      ],
      "metadata": {
        "colab": {
          "base_uri": "https://localhost:8080/"
        },
        "id": "QKQHb2WBoCpo",
        "outputId": "585afc32-61db-47b2-9861-23d1d1d2c660"
      },
      "execution_count": 24,
      "outputs": [
        {
          "output_type": "stream",
          "name": "stdout",
          "text": [
            "\n",
            "📌 第 1 題：請問現在東京幾點？\n",
            "\n",
            "\n",
            "\u001b[1m> Entering new AgentExecutor chain...\u001b[0m\n",
            "\u001b[32;1m\u001b[1;3m\n",
            "Invoking: `get_time` with `{'location': 'Tokyo'}`\n",
            "\n",
            "\n",
            "\u001b[0m\u001b[33;1m\u001b[1;3mTokyo 現在時間是下午 3:00。\u001b[0m\u001b[32;1m\u001b[1;3m現在東京的時間是下午 3:00。\u001b[0m\n",
            "\n",
            "\u001b[1m> Finished chain.\u001b[0m\n",
            "🤖 回答： 現在東京的時間是下午 3:00。\n",
            "\n",
            "📌 第 2 題：今天台北天氣如何？\n",
            "\n",
            "\n",
            "\u001b[1m> Entering new AgentExecutor chain...\u001b[0m\n",
            "\u001b[32;1m\u001b[1;3m\n",
            "Invoking: `get_weather` with `{'location': '台北'}`\n",
            "\n",
            "\n",
            "\u001b[0m\u001b[36;1m\u001b[1;3m台北 今天天氣晴，溫度約 25°C。\u001b[0m\u001b[32;1m\u001b[1;3m今天台北的天氣晴朗，溫度約為 25°C。\u001b[0m\n",
            "\n",
            "\u001b[1m> Finished chain.\u001b[0m\n",
            "🤖 回答： 今天台北的天氣晴朗，溫度約為 25°C。\n",
            "\n",
            "📌 第 3 題：請告訴我日圓對台幣的匯率\n",
            "\n",
            "\n",
            "\u001b[1m> Entering new AgentExecutor chain...\u001b[0m\n",
            "\u001b[32;1m\u001b[1;3m\n",
            "Invoking: `get_exchange_rate` with `{'currency': 'JPY'}`\n",
            "\n",
            "\n",
            "\u001b[0m\u001b[38;5;200m\u001b[1;3m1 JPY = 0.22 TWD\u001b[0m\u001b[32;1m\u001b[1;3m目前日圓對台幣的匯率是 1 日圓 = 0.22 台幣。\u001b[0m\n",
            "\n",
            "\u001b[1m> Finished chain.\u001b[0m\n",
            "🤖 回答： 目前日圓對台幣的匯率是 1 日圓 = 0.22 台幣。\n"
          ]
        }
      ]
    },
    {
      "cell_type": "markdown",
      "source": [
        "## Advanced\n",
        "使用LangGraph建立一個流程，由llm判斷問題是否與哆啦A夢道具相關，若有則使用RAG在資料庫裡找尋相關資料，若無則由模型自行回答問題。\n",
        "\n",
        "Hint:參考流程圖"
      ],
      "metadata": {
        "id": "Gr30FIQmngU1"
      }
    },
    {
      "cell_type": "markdown",
      "source": [
        "![image.png](data:image/png;base64,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)"
      ],
      "metadata": {
        "id": "e-VmELYCRPqv"
      }
    },
    {
      "cell_type": "code",
      "source": [
        "docs_text = \"\"\"\n",
        "道具名稱\t功能\n",
        "引路天使\t它可以告訴你最好的路，不至於在路上出意外。\n",
        "雲朵凝固瓦斯\t使用這個瓦斯的話，雲會凝固，變得可以奔走在雲上。\n",
        "交換繩\t兩人同時握住繩索的話，心還是一樣，但身體替換。\n",
        "室內旅行機\t可以顯示出各種地點的立體影像，但室內面積並不會隨之更動。會讓自己的家有旅行的味道。\n",
        "落難神明\t是一個難看老機器人。不過，幫助他的話，可以滿足3個請求。\n",
        "南北極徽章\t只要將自己與另外一個人貼上寫有「Ｎ」或「Ｓ」的徽章，就會變的像磁鐵一樣，同極相斥，異極相吸。\n",
        "間諜工具組合\t能用監視器看間諜人偶的「麥克風」和「」偵察的影像。\n",
        "聲音糖果\t只要利用這個錄製聲音，再給別人吃下去以後， 就可以得到被錄製聲音的特徵。\n",
        "進化退化放射線槍\t被這光照射到，動物就可以進化(或是退化)。\n",
        "算了算了棒\t用這個棒子將正在生氣的人的嘴巴堵住，並說「算了，算了」，那人氣就消了。\n",
        "助興樂團\t這兩個道具都是人型玩偶，都會播放音樂，讓氣氛變好；不同的是，只要讓小型插秧姑娘唱歌，就可以快速地完成插秧。\n",
        "四次元口袋\t哆啦A夢的道具都是放在這裡面的。四次元空間是個沒有大小的空間，要多大有多大。\n",
        "美食桌巾\t它可以幫你做出好吃的料理。無論甚麼料理都可以變出來。\n",
        "愛神之箭\t被箭射中的人，會對射箭的人產生好感。\n",
        "感動麥克風\t使用這個麥克風，發出的聲音就會讓人感動不已。\n",
        "桃太郎丸子\t讓動物吃下，他會對你言聽計從。\n",
        "樵夫之泉\t把東西丟到這個泉裡，女神就會出現。如果你說了實話，他就會給你一個更好、更新的東西。\n",
        "更衣照相機\t選擇合適的衣服，拍攝一下馬上就能穿在身上。\n",
        "穿透環\t可以穿過任何障礙。\n",
        "如果電話亭\t「如果這個世界是……」只要這樣對著話筒說話，就可以創造出你所說出的世界。但是當取消時，世界將會變成「平行世界」，雙方沒有瓜葛。\n",
        "翻譯蒟蒻\t吃了這個蒟蒻，任何人說的任何話，我們都可以聽懂、而且可以溝通。\n",
        "縮小燈\t被光照射到，東西會變小。\n",
        "記憶麵包\t只要吃下這個吐司，就能非常容易的記住事前寫在吐司上的事物。\n",
        "時光布\t包了的東西既可以變新，也可以變舊。\n",
        "竹蜻蜓\t是最常被哆啦A夢使用的道具！只要把它放置在身體任何部分，就可依自己意思在天空中翱翔。內藏超小型電池，可時速 80 公里連續飛行 8 小時。若是間斷飛行，還可撐更久！\n",
        "時光機\t除了時間移動之外，它也可以用來空間與空間間的互相移動。\n",
        "任意門\t只要心中想著想去的地點，電腦就會傳達並歪曲所在地與目的地間的空間而將兩地靠攏，跨過門就可以到達。但是不能去距離十光年以上的行星，或者是電腦地圖上沒有的地區。是很常用的道具，使用率位列第三，僅次於竹蜻蜓、時光機。\n",
        "\n",
        "\"\"\""
      ],
      "metadata": {
        "id": "XpShJx6UyTDu"
      },
      "execution_count": 25,
      "outputs": []
    },
    {
      "cell_type": "code",
      "source": [
        "from langchain.text_splitter import CharacterTextSplitter\n",
        "from langchain.vectorstores import Chroma\n",
        "from langchain.embeddings.openai import OpenAIEmbeddings\n",
        "from langchain.schema import Document\n",
        "\n",
        "# Split text into rows by newlines and create documents\n",
        "text_splitter = CharacterTextSplitter(\n",
        "    separator=\"\\n\",\n",
        "    chunk_size=1000,\n",
        "    chunk_overlap=0\n",
        ")\n",
        "\n",
        "# Parse the text into rows\n",
        "rows = [row.strip() for row in docs_text.split(\"\\n\") if row.strip()]\n",
        "\n",
        "# Create documents from rows that contain tab separator\n",
        "documents = []\n",
        "for row in rows:\n",
        "    if \"\\t\" in row:\n",
        "        name, desc = row.split(\"\\t\")\n",
        "        if name != \"道具名稱\": # Skip header row\n",
        "            doc = Document(\n",
        "                page_content=name + ':' + desc,\n",
        "                metadata={\"name\": name}\n",
        "            )\n",
        "            documents.append(doc)\n",
        "\n",
        "# Create vector store\n",
        "embeddings = OpenAIEmbeddings()\n",
        "vector_store = Chroma.from_documents(documents, embeddings)"
      ],
      "metadata": {
        "id": "1o70F_lOk9ir"
      },
      "execution_count": 28,
      "outputs": []
    },
    {
      "cell_type": "code",
      "source": [
        "from langgraph.graph import MessagesState\n",
        "from langchain_core.messages import HumanMessage, SystemMessage\n",
        "\n",
        "# System message\n",
        "sys_msg = SystemMessage(content=\"You are a helpful assistant tasked with performing arithmetic on a set of inputs.\")\n",
        "\n",
        "# 定義搜尋向量資料庫的函數\n",
        "def search_doraemon_tools(query: str, k: int = 1):\n",
        "    \"\"\"\n",
        "    搜尋哆啦A夢道具資料庫中最相似的文本\n",
        "\n",
        "    參數:\n",
        "        query (str): 搜尋的句子\n",
        "        k (int): 要回傳的結果數量，預設為1\n",
        "\n",
        "    回傳:\n",
        "        list: 包含最相似文本的列表\n",
        "    \"\"\"\n",
        "    # 使用向量資料庫進行相似度搜尋\n",
        "    results = vector_store.similarity_search(query, k=k)\n",
        "\n",
        "    # 回傳搜尋結果的文本內容\n",
        "    return [doc.page_content for doc in results]\n",
        "\n",
        "# 定義工具\n",
        "from langchain.tools import Tool\n",
        "\n",
        "# 建立搜尋工具\n",
        "doraemon_search_tool = Tool(\n",
        "    name=\"search_doraemon_tools\",\n",
        "    description=\"當需要搜尋哆啦A夢道具相關資訊時使用此工具。輸入要搜尋的句子，會回傳最相關的道具描述。\",\n",
        "    func=lambda q: search_doraemon_tools(q)[0]\n",
        ")\n",
        "\n",
        "# 將工具加入工具列表\n",
        "tools = [doraemon_search_tool]\n",
        "\n",
        "from langchain.chat_models import init_chat_model\n",
        "llm = init_chat_model(\"openai:gpt-4.1-mini\")\n",
        "\n",
        "# Node\n",
        "llm_with_tools = llm.bind_tools(tools, parallel_tool_calls=False)\n",
        "def assistant(state: MessagesState):\n",
        "   return {\"messages\": [llm_with_tools.invoke([sys_msg] + state[\"messages\"])]}"
      ],
      "metadata": {
        "id": "PVvjn0ksugmA"
      },
      "execution_count": 32,
      "outputs": []
    },
    {
      "cell_type": "code",
      "source": [
        "from langgraph.graph import START, StateGraph\n",
        "from langgraph.prebuilt import tools_condition\n",
        "from langgraph.prebuilt import ToolNode\n",
        "from IPython.display import Image, display\n",
        "\n",
        "# Graph\n",
        "builder = StateGraph(MessagesState)\n",
        "\n",
        "# Define nodes: these do the work\n",
        "builder.add_node(\"assistant\", assistant)\n",
        "builder.add_node(\"tools\", ToolNode(tools))\n",
        "\n",
        "# Define edges: these determine how the control flow moves\n",
        "builder.add_edge(START, \"assistant\")\n",
        "builder.add_conditional_edges(\n",
        "    \"assistant\",\n",
        "    # If the latest message (result) from assistant is a tool call -> tools_condition routes to tools\n",
        "    # If the latest message (result) from assistant is a not a tool call -> tools_condition routes to END\n",
        "    tools_condition,\n",
        ")\n",
        "builder.add_edge(\"tools\", \"assistant\")\n",
        "react_graph = builder.compile()\n",
        "\n",
        "# Show\n",
        "display(Image(react_graph.get_graph(xray=True).draw_mermaid_png()))"
      ],
      "metadata": {
        "id": "JlHNMqSszfsG",
        "colab": {
          "base_uri": "https://localhost:8080/",
          "height": 266
        },
        "outputId": "1105a16a-e5d9-4804-af37-c8a201117910"
      },
      "execution_count": 33,
      "outputs": [
        {
          "output_type": "display_data",
          "data": {
            "image/png": "[encoded data removed]",
            "text/plain": [
              "<IPython.core.display.Image object>"
            ]
          },
          "metadata": {}
        }
      ]
    },
    {
      "cell_type": "code",
      "source": [
        "messages = [HumanMessage(content=\"任意門可以幹嘛\")]\n",
        "messages = react_graph.invoke({\"messages\": messages})\n",
        "messages"
      ],
      "metadata": {
        "colab": {
          "base_uri": "https://localhost:8080/"
        },
        "id": "0Q_vl1p3V2ZI",
        "outputId": "b0d2a33a-3d41-4b15-b2c4-6fe5a66f157b"
      },
      "execution_count": 34,
      "outputs": [
        {
          "output_type": "execute_result",
          "data": {
            "text/plain": [
              "{'messages': [HumanMessage(content='任意門可以幹嘛', additional_kwargs={}, response_metadata={}, id='c4902ce1-1562-40e0-85cd-9c940d953b83'),\n",
              "  AIMessage(content='', additional_kwargs={'tool_calls': [{'id': 'call_p9xcbFHbb2TaMvjAwLeNrHpQ', 'function': {'arguments': '{\"__arg1\":\"任意門\"}', 'name': 'search_doraemon_tools'}, 'type': 'function'}], 'refusal': None}, response_metadata={'token_usage': {'completion_tokens': 21, 'prompt_tokens': 105, 'total_tokens': 126, 'completion_tokens_details': {'accepted_prediction_tokens': 0, 'audio_tokens': 0, 'reasoning_tokens': 0, 'rejected_prediction_tokens': 0}, 'prompt_tokens_details': {'audio_tokens': 0, 'cached_tokens': 0}}, 'model_name': 'gpt-4.1-mini-2025-04-14', 'system_fingerprint': 'fp_658b958c37', 'id': 'chatcmpl-Bk2D67GpFZjSRa5bzGCbjVcpnWWrX', 'service_tier': 'default', 'finish_reason': 'tool_calls', 'logprobs': None}, id='run--8dfcc11f-7ef0-44c3-a1bb-5f6da9204477-0', tool_calls=[{'name': 'search_doraemon_tools', 'args': {'__arg1': '任意門'}, 'id': 'call_p9xcbFHbb2TaMvjAwLeNrHpQ', 'type': 'tool_call'}], usage_metadata={'input_tokens': 105, 'output_tokens': 21, 'total_tokens': 126, 'input_token_details': {'audio': 0, 'cache_read': 0}, 'output_token_details': {'audio': 0, 'reasoning': 0}}),\n",
              "  ToolMessage(content='任意門:只要心中想著想去的地點，電腦就會傳達並歪曲所在地與目的地間的空間而將兩地靠攏，跨過門就可以到達。但是不能去距離十光年以上的行星，或者是電腦地圖上沒有的地區。是很常用的道具，使用率位列第三，僅次於竹蜻蜓、時光機。', name='search_doraemon_tools', id='a3af436e-223b-4acb-928c-4fc195c473be', tool_call_id='call_p9xcbFHbb2TaMvjAwLeNrHpQ'),\n",
              "  AIMessage(content='任意門的功能是：只要心中想著想去的地點，電腦就會傳達並歪曲所在地與目的地間的空間，將兩地靠攏，跨過門就可以直接到達該地點。但它有使用限制，不能去距離十光年以上的行星，或者是電腦地圖上沒有的地區。這是哆啦A夢非常常用且使用率排名第三的道具。', additional_kwargs={'refusal': None}, response_metadata={'token_usage': {'completion_tokens': 108, 'prompt_tokens': 240, 'total_tokens': 348, 'completion_tokens_details': {'accepted_prediction_tokens': 0, 'audio_tokens': 0, 'reasoning_tokens': 0, 'rejected_prediction_tokens': 0}, 'prompt_tokens_details': {'audio_tokens': 0, 'cached_tokens': 0}}, 'model_name': 'gpt-4.1-mini-2025-04-14', 'system_fingerprint': 'fp_6f2eabb9a5', 'id': 'chatcmpl-Bk2D8p0okYpIwB8PRyne8ZCAMJ0LY', 'service_tier': 'default', 'finish_reason': 'stop', 'logprobs': None}, id='run--d335b7de-2431-4ce0-b5f5-9dc82877a5ba-0', usage_metadata={'input_tokens': 240, 'output_tokens': 108, 'total_tokens': 348, 'input_token_details': {'audio': 0, 'cache_read': 0}, 'output_token_details': {'audio': 0, 'reasoning': 0}})]}"
            ]
          },
          "metadata": {},
          "execution_count": 34
        }
      ]
    },
    {
      "cell_type": "code",
      "source": [],
      "metadata": {
        "id": "086uNL2tVKHO"
      },
      "execution_count": null,
      "outputs": []
    },
    {
      "cell_type": "code",
      "source": [],
      "metadata": {
        "id": "hzj0PmVkrwIV"
      },
      "execution_count": null,
      "outputs": []
    }
  ]
}